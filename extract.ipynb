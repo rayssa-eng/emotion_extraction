{
 "cells": [
  {
   "cell_type": "code",
   "execution_count": 77,
   "metadata": {},
   "outputs": [],
   "source": [
    "import json\n",
    "import pandas as pd\n",
    "from tqdm import tqdm\n",
    "from datetime import datetime\n",
    "import unicodedata\n",
    "import re\n",
    "from nltk.tokenize import word_tokenize\n",
    "from nltk.stem import WordNetLemmatizer\n",
    "\n",
    "import seaborn as sns\n",
    "import matplotlib.pyplot as plt\n",
    "\n",
    "from google_play_scraper import Sort, reviews, app"
   ]
  },
  {
   "cell_type": "code",
   "execution_count": 78,
   "metadata": {},
   "outputs": [
    {
     "name": "stderr",
     "output_type": "stream",
     "text": [
      "[nltk_data] Downloading package punkt to /home/raycalm/nltk_data...\n",
      "[nltk_data]   Package punkt is already up-to-date!\n",
      "[nltk_data] Downloading package stopwords to\n",
      "[nltk_data]     /home/raycalm/nltk_data...\n",
      "[nltk_data]   Package stopwords is already up-to-date!\n"
     ]
    },
    {
     "data": {
      "text/plain": [
       "True"
      ]
     },
     "execution_count": 78,
     "metadata": {},
     "output_type": "execute_result"
    }
   ],
   "source": [
    "import nltk\n",
    "nltk.download('punkt')\n",
    "nltk.download('stopwords')"
   ]
  },
  {
   "cell_type": "code",
   "execution_count": 79,
   "metadata": {},
   "outputs": [],
   "source": [
    "apps_ids = ['br.com.brainweb.ifood', 'com.cerveceriamodelo.modelonow',\n",
    "\n",
    "'com.mcdo.mcdonalds', 'habibs.alphacode.com.br',\n",
    "\n",
    "'com.ubercab.eats', 'com.grability.rappi',\n",
    "\n",
    "'burgerking.com.br.appandroid', \n",
    "\n",
    "'com.vanuatu.aiqfome',\n",
    "\n",
    "'br.com.sbf.centauro',\n",
    "\n",
    "'br.com.riachuelo.app',\n",
    "\n",
    "'com.mercadolibre',\n",
    "\n",
    "'com.cerveceriamodelo.modelonow',\n",
    "\n",
    "'com.amazon.mShop.android.shopping',\n",
    "\n",
    "'br.gov.meugovbr',\n",
    "\n",
    "'com.b2w.americanas',\n",
    "\n",
    "'br.com.lojasrenner',\n",
    "\n",
    "'br.com.marisa.android',\n",
    "\n",
    "'com.zzkko',\n",
    "\n",
    "'com.luizalabs.mlapp']"
   ]
  },
  {
   "cell_type": "code",
   "execution_count": 80,
   "metadata": {},
   "outputs": [
    {
     "name": "stderr",
     "output_type": "stream",
     "text": [
      "  0%|          | 0/19 [00:00<?, ?it/s]"
     ]
    },
    {
     "name": "stdout",
     "output_type": "stream",
     "text": [
      "br.com.brainweb.ifood\n"
     ]
    },
    {
     "name": "stderr",
     "output_type": "stream",
     "text": [
      "  5%|▌         | 1/19 [00:00<00:07,  2.47it/s]"
     ]
    },
    {
     "name": "stdout",
     "output_type": "stream",
     "text": [
      "com.cerveceriamodelo.modelonow\n"
     ]
    },
    {
     "name": "stderr",
     "output_type": "stream",
     "text": [
      " 11%|█         | 2/19 [00:00<00:06,  2.75it/s]"
     ]
    },
    {
     "name": "stdout",
     "output_type": "stream",
     "text": [
      "com.mcdo.mcdonalds\n"
     ]
    },
    {
     "name": "stderr",
     "output_type": "stream",
     "text": [
      " 16%|█▌        | 3/19 [00:01<00:05,  2.87it/s]"
     ]
    },
    {
     "name": "stdout",
     "output_type": "stream",
     "text": [
      "habibs.alphacode.com.br\n"
     ]
    },
    {
     "name": "stderr",
     "output_type": "stream",
     "text": [
      " 21%|██        | 4/19 [00:01<00:05,  2.84it/s]"
     ]
    },
    {
     "name": "stdout",
     "output_type": "stream",
     "text": [
      "com.ubercab.eats\n"
     ]
    },
    {
     "name": "stderr",
     "output_type": "stream",
     "text": [
      " 26%|██▋       | 5/19 [00:01<00:04,  2.92it/s]"
     ]
    },
    {
     "name": "stdout",
     "output_type": "stream",
     "text": [
      "com.grability.rappi\n"
     ]
    },
    {
     "name": "stderr",
     "output_type": "stream",
     "text": [
      " 32%|███▏      | 6/19 [00:02<00:04,  2.72it/s]"
     ]
    },
    {
     "name": "stdout",
     "output_type": "stream",
     "text": [
      "burgerking.com.br.appandroid\n"
     ]
    },
    {
     "name": "stderr",
     "output_type": "stream",
     "text": [
      " 37%|███▋      | 7/19 [00:02<00:04,  2.82it/s]"
     ]
    },
    {
     "name": "stdout",
     "output_type": "stream",
     "text": [
      "com.vanuatu.aiqfome\n"
     ]
    },
    {
     "name": "stderr",
     "output_type": "stream",
     "text": [
      " 42%|████▏     | 8/19 [00:02<00:03,  2.80it/s]"
     ]
    },
    {
     "name": "stdout",
     "output_type": "stream",
     "text": [
      "br.com.sbf.centauro\n"
     ]
    },
    {
     "name": "stderr",
     "output_type": "stream",
     "text": [
      " 47%|████▋     | 9/19 [00:03<00:03,  2.82it/s]"
     ]
    },
    {
     "name": "stdout",
     "output_type": "stream",
     "text": [
      "br.com.riachuelo.app\n"
     ]
    },
    {
     "name": "stderr",
     "output_type": "stream",
     "text": [
      " 53%|█████▎    | 10/19 [00:03<00:03,  2.90it/s]"
     ]
    },
    {
     "name": "stdout",
     "output_type": "stream",
     "text": [
      "com.mercadolibre\n"
     ]
    },
    {
     "name": "stderr",
     "output_type": "stream",
     "text": [
      " 58%|█████▊    | 11/19 [00:03<00:02,  2.88it/s]"
     ]
    },
    {
     "name": "stdout",
     "output_type": "stream",
     "text": [
      "com.cerveceriamodelo.modelonow\n"
     ]
    },
    {
     "name": "stderr",
     "output_type": "stream",
     "text": [
      " 63%|██████▎   | 12/19 [00:04<00:02,  2.94it/s]"
     ]
    },
    {
     "name": "stdout",
     "output_type": "stream",
     "text": [
      "com.amazon.mShop.android.shopping\n"
     ]
    },
    {
     "name": "stderr",
     "output_type": "stream",
     "text": [
      " 68%|██████▊   | 13/19 [00:04<00:02,  2.78it/s]"
     ]
    },
    {
     "name": "stdout",
     "output_type": "stream",
     "text": [
      "br.gov.meugovbr\n"
     ]
    },
    {
     "name": "stderr",
     "output_type": "stream",
     "text": [
      " 74%|███████▎  | 14/19 [00:04<00:01,  2.80it/s]"
     ]
    },
    {
     "name": "stdout",
     "output_type": "stream",
     "text": [
      "com.b2w.americanas\n"
     ]
    },
    {
     "name": "stderr",
     "output_type": "stream",
     "text": [
      " 79%|███████▉  | 15/19 [00:05<00:01,  2.75it/s]"
     ]
    },
    {
     "name": "stdout",
     "output_type": "stream",
     "text": [
      "br.com.lojasrenner\n"
     ]
    },
    {
     "name": "stderr",
     "output_type": "stream",
     "text": [
      " 84%|████████▍ | 16/19 [00:05<00:01,  2.85it/s]"
     ]
    },
    {
     "name": "stdout",
     "output_type": "stream",
     "text": [
      "br.com.marisa.android\n"
     ]
    },
    {
     "name": "stderr",
     "output_type": "stream",
     "text": [
      " 89%|████████▉ | 17/19 [00:06<00:00,  2.44it/s]"
     ]
    },
    {
     "name": "stdout",
     "output_type": "stream",
     "text": [
      "com.zzkko\n"
     ]
    },
    {
     "name": "stderr",
     "output_type": "stream",
     "text": [
      " 95%|█████████▍| 18/19 [00:06<00:00,  2.57it/s]"
     ]
    },
    {
     "name": "stdout",
     "output_type": "stream",
     "text": [
      "com.luizalabs.mlapp\n"
     ]
    },
    {
     "name": "stderr",
     "output_type": "stream",
     "text": [
      "100%|██████████| 19/19 [00:06<00:00,  2.75it/s]\n"
     ]
    }
   ],
   "source": [
    "apps_infos = []\n",
    "\n",
    "for ap in tqdm(apps_ids):\n",
    "    print(ap)\n",
    "    info = app(ap, lang='pt', country='br')\n",
    "    del info['comments']\n",
    "    apps_infos.append(info)"
   ]
  },
  {
   "cell_type": "code",
   "execution_count": 81,
   "metadata": {},
   "outputs": [
    {
     "data": {
      "text/html": [
       "<div>\n",
       "<style scoped>\n",
       "    .dataframe tbody tr th:only-of-type {\n",
       "        vertical-align: middle;\n",
       "    }\n",
       "\n",
       "    .dataframe tbody tr th {\n",
       "        vertical-align: top;\n",
       "    }\n",
       "\n",
       "    .dataframe thead th {\n",
       "        text-align: right;\n",
       "    }\n",
       "</style>\n",
       "<table border=\"1\" class=\"dataframe\">\n",
       "  <thead>\n",
       "    <tr style=\"text-align: right;\">\n",
       "      <th></th>\n",
       "      <th>title</th>\n",
       "      <th>description</th>\n",
       "      <th>descriptionHTML</th>\n",
       "      <th>summary</th>\n",
       "      <th>installs</th>\n",
       "      <th>minInstalls</th>\n",
       "      <th>realInstalls</th>\n",
       "      <th>score</th>\n",
       "      <th>ratings</th>\n",
       "      <th>reviews</th>\n",
       "      <th>...</th>\n",
       "      <th>contentRating</th>\n",
       "      <th>contentRatingDescription</th>\n",
       "      <th>adSupported</th>\n",
       "      <th>containsAds</th>\n",
       "      <th>released</th>\n",
       "      <th>lastUpdatedOn</th>\n",
       "      <th>updated</th>\n",
       "      <th>version</th>\n",
       "      <th>appId</th>\n",
       "      <th>url</th>\n",
       "    </tr>\n",
       "  </thead>\n",
       "  <tbody>\n",
       "    <tr>\n",
       "      <th>0</th>\n",
       "      <td>iFood comida e mercado em casa</td>\n",
       "      <td>Compre em mercados, restaurantes, farmácias e ...</td>\n",
       "      <td>Compre em mercados, restaurantes, farmácias e ...</td>\n",
       "      <td>Peça delivery de comida, mercado, bebidas, far...</td>\n",
       "      <td>100.000.000+</td>\n",
       "      <td>100000000</td>\n",
       "      <td>118028332</td>\n",
       "      <td>4.777209</td>\n",
       "      <td>13227646</td>\n",
       "      <td>1462424</td>\n",
       "      <td>...</td>\n",
       "      <td>Classificação Livre</td>\n",
       "      <td>None</td>\n",
       "      <td>False</td>\n",
       "      <td>False</td>\n",
       "      <td>25 de abr. de 2012</td>\n",
       "      <td>5 de jul. de 2024</td>\n",
       "      <td>1720215164</td>\n",
       "      <td>Varies with device</td>\n",
       "      <td>br.com.brainweb.ifood</td>\n",
       "      <td>https://play.google.com/store/apps/details?id=...</td>\n",
       "    </tr>\n",
       "    <tr>\n",
       "      <th>1</th>\n",
       "      <td>Zé Delivery de Bebidas</td>\n",
       "      <td>Zé Delivery: o maior app de bebidas do país! \\...</td>\n",
       "      <td>Zé Delivery: o maior app de bebidas do país! &lt;...</td>\n",
       "      <td>Delivery de bebidas a preço baixo, com entrega...</td>\n",
       "      <td>10.000.000+</td>\n",
       "      <td>10000000</td>\n",
       "      <td>23861966</td>\n",
       "      <td>4.854310</td>\n",
       "      <td>1238255</td>\n",
       "      <td>258641</td>\n",
       "      <td>...</td>\n",
       "      <td>Classificação 12 anos</td>\n",
       "      <td>Drogas Legais, Temas sensíveis</td>\n",
       "      <td>False</td>\n",
       "      <td>False</td>\n",
       "      <td>13 de dez. de 2017</td>\n",
       "      <td>7 de mai. de 2024</td>\n",
       "      <td>1715088016</td>\n",
       "      <td>24.17.1</td>\n",
       "      <td>com.cerveceriamodelo.modelonow</td>\n",
       "      <td>https://play.google.com/store/apps/details?id=...</td>\n",
       "    </tr>\n",
       "    <tr>\n",
       "      <th>2</th>\n",
       "      <td>McDonald’s: Cupons e Delivery</td>\n",
       "      <td>Bora fazer aquela Méquizice hoje?! 🍔🍦🍟Baixe o ...</td>\n",
       "      <td>Bora fazer aquela Méquizice hoje?! 🍔🍦🍟Baixe o ...</td>\n",
       "      <td>Pega essa dica: Peça seu Méqui no app pelo McD...</td>\n",
       "      <td>50.000.000+</td>\n",
       "      <td>50000000</td>\n",
       "      <td>78969847</td>\n",
       "      <td>4.665279</td>\n",
       "      <td>1593693</td>\n",
       "      <td>92793</td>\n",
       "      <td>...</td>\n",
       "      <td>Classificação Livre</td>\n",
       "      <td>None</td>\n",
       "      <td>True</td>\n",
       "      <td>True</td>\n",
       "      <td>8 de jul. de 2016</td>\n",
       "      <td>27 de jun. de 2024</td>\n",
       "      <td>1719512526</td>\n",
       "      <td>4.1.1</td>\n",
       "      <td>com.mcdo.mcdonalds</td>\n",
       "      <td>https://play.google.com/store/apps/details?id=...</td>\n",
       "    </tr>\n",
       "    <tr>\n",
       "      <th>3</th>\n",
       "      <td>Habib's: Descontos e Delivery</td>\n",
       "      <td>Bora pedir um Habib’s hoje?\\r\\nAqui no App, vo...</td>\n",
       "      <td>Bora pedir um Habib’s hoje?&lt;br&gt;Aqui no App, vo...</td>\n",
       "      <td>Quer acabar com a sua fome? Vem pro App Habib’s!</td>\n",
       "      <td>5.000.000+</td>\n",
       "      <td>5000000</td>\n",
       "      <td>9514377</td>\n",
       "      <td>4.514296</td>\n",
       "      <td>307135</td>\n",
       "      <td>78250</td>\n",
       "      <td>...</td>\n",
       "      <td>Classificação Livre</td>\n",
       "      <td>None</td>\n",
       "      <td>False</td>\n",
       "      <td>False</td>\n",
       "      <td>30 de jun. de 2019</td>\n",
       "      <td>18 de jun. de 2024</td>\n",
       "      <td>1718713339</td>\n",
       "      <td>3.10.11</td>\n",
       "      <td>habibs.alphacode.com.br</td>\n",
       "      <td>https://play.google.com/store/apps/details?id=...</td>\n",
       "    </tr>\n",
       "    <tr>\n",
       "      <th>4</th>\n",
       "      <td>Uber Eats: Delivery de Comida</td>\n",
       "      <td>Está com fome? Receba seus pratos preferidos d...</td>\n",
       "      <td>Está com fome? Receba seus pratos preferidos d...</td>\n",
       "      <td>Cupons de oferta. Delivery de comida de restau...</td>\n",
       "      <td>100.000.000+</td>\n",
       "      <td>100000000</td>\n",
       "      <td>237800878</td>\n",
       "      <td>3.876273</td>\n",
       "      <td>5470373</td>\n",
       "      <td>277864</td>\n",
       "      <td>...</td>\n",
       "      <td>Classificação Livre</td>\n",
       "      <td>None</td>\n",
       "      <td>True</td>\n",
       "      <td>True</td>\n",
       "      <td>6 de jun. de 2016</td>\n",
       "      <td>8 de jul. de 2024</td>\n",
       "      <td>1720458033</td>\n",
       "      <td>Varies with device</td>\n",
       "      <td>com.ubercab.eats</td>\n",
       "      <td>https://play.google.com/store/apps/details?id=...</td>\n",
       "    </tr>\n",
       "  </tbody>\n",
       "</table>\n",
       "<p>5 rows × 44 columns</p>\n",
       "</div>"
      ],
      "text/plain": [
       "                            title   \n",
       "0  iFood comida e mercado em casa  \\\n",
       "1          Zé Delivery de Bebidas   \n",
       "2   McDonald’s: Cupons e Delivery   \n",
       "3   Habib's: Descontos e Delivery   \n",
       "4   Uber Eats: Delivery de Comida   \n",
       "\n",
       "                                         description   \n",
       "0  Compre em mercados, restaurantes, farmácias e ...  \\\n",
       "1  Zé Delivery: o maior app de bebidas do país! \\...   \n",
       "2  Bora fazer aquela Méquizice hoje?! 🍔🍦🍟Baixe o ...   \n",
       "3  Bora pedir um Habib’s hoje?\\r\\nAqui no App, vo...   \n",
       "4  Está com fome? Receba seus pratos preferidos d...   \n",
       "\n",
       "                                     descriptionHTML   \n",
       "0  Compre em mercados, restaurantes, farmácias e ...  \\\n",
       "1  Zé Delivery: o maior app de bebidas do país! <...   \n",
       "2  Bora fazer aquela Méquizice hoje?! 🍔🍦🍟Baixe o ...   \n",
       "3  Bora pedir um Habib’s hoje?<br>Aqui no App, vo...   \n",
       "4  Está com fome? Receba seus pratos preferidos d...   \n",
       "\n",
       "                                             summary      installs   \n",
       "0  Peça delivery de comida, mercado, bebidas, far...  100.000.000+  \\\n",
       "1  Delivery de bebidas a preço baixo, com entrega...   10.000.000+   \n",
       "2  Pega essa dica: Peça seu Méqui no app pelo McD...   50.000.000+   \n",
       "3   Quer acabar com a sua fome? Vem pro App Habib’s!    5.000.000+   \n",
       "4  Cupons de oferta. Delivery de comida de restau...  100.000.000+   \n",
       "\n",
       "   minInstalls  realInstalls     score   ratings  reviews  ...   \n",
       "0    100000000     118028332  4.777209  13227646  1462424  ...  \\\n",
       "1     10000000      23861966  4.854310   1238255   258641  ...   \n",
       "2     50000000      78969847  4.665279   1593693    92793  ...   \n",
       "3      5000000       9514377  4.514296    307135    78250  ...   \n",
       "4    100000000     237800878  3.876273   5470373   277864  ...   \n",
       "\n",
       "           contentRating        contentRatingDescription  adSupported   \n",
       "0    Classificação Livre                            None        False  \\\n",
       "1  Classificação 12 anos  Drogas Legais, Temas sensíveis        False   \n",
       "2    Classificação Livre                            None         True   \n",
       "3    Classificação Livre                            None        False   \n",
       "4    Classificação Livre                            None         True   \n",
       "\n",
       "  containsAds            released       lastUpdatedOn     updated   \n",
       "0       False  25 de abr. de 2012   5 de jul. de 2024  1720215164  \\\n",
       "1       False  13 de dez. de 2017   7 de mai. de 2024  1715088016   \n",
       "2        True   8 de jul. de 2016  27 de jun. de 2024  1719512526   \n",
       "3       False  30 de jun. de 2019  18 de jun. de 2024  1718713339   \n",
       "4        True   6 de jun. de 2016   8 de jul. de 2024  1720458033   \n",
       "\n",
       "              version                           appId   \n",
       "0  Varies with device           br.com.brainweb.ifood  \\\n",
       "1             24.17.1  com.cerveceriamodelo.modelonow   \n",
       "2               4.1.1              com.mcdo.mcdonalds   \n",
       "3             3.10.11         habibs.alphacode.com.br   \n",
       "4  Varies with device                com.ubercab.eats   \n",
       "\n",
       "                                                 url  \n",
       "0  https://play.google.com/store/apps/details?id=...  \n",
       "1  https://play.google.com/store/apps/details?id=...  \n",
       "2  https://play.google.com/store/apps/details?id=...  \n",
       "3  https://play.google.com/store/apps/details?id=...  \n",
       "4  https://play.google.com/store/apps/details?id=...  \n",
       "\n",
       "[5 rows x 44 columns]"
      ]
     },
     "execution_count": 81,
     "metadata": {},
     "output_type": "execute_result"
    }
   ],
   "source": [
    "apps_infos_df = pd.DataFrame(apps_infos)\n",
    "apps_infos_df.head()"
   ]
  },
  {
   "cell_type": "code",
   "execution_count": 82,
   "metadata": {},
   "outputs": [
    {
     "name": "stderr",
     "output_type": "stream",
     "text": [
      "  0%|          | 0/19 [00:00<?, ?it/s]"
     ]
    },
    {
     "name": "stderr",
     "output_type": "stream",
     "text": [
      "100%|██████████| 19/19 [01:00<00:00,  3.18s/it]\n"
     ]
    }
   ],
   "source": [
    "apps_reviews = []\n",
    "\n",
    "for ap in tqdm(apps_ids):\n",
    "    for score in list(range(1, 6)):\n",
    "        for sort_order in [Sort.MOST_RELEVANT, Sort.NEWEST]:\n",
    "            rvs, _ = reviews(\n",
    "                ap,\n",
    "                lang='pt',\n",
    "                country='br',\n",
    "                sort=sort_order,\n",
    "                count= 200 if score == 3 else 100,\n",
    "                filter_score_with=score\n",
    "            )\n",
    "            for r in rvs:\n",
    "                r['sortOrder'] = 'most_relevant' if sort_order == Sort.MOST_RELEVANT else 'newest'\n",
    "                r['appId'] = ap\n",
    "            apps_reviews.extend(rvs)"
   ]
  },
  {
   "cell_type": "code",
   "execution_count": 83,
   "metadata": {},
   "outputs": [
    {
     "data": {
      "text/plain": [
       "22800"
      ]
     },
     "execution_count": 83,
     "metadata": {},
     "output_type": "execute_result"
    }
   ],
   "source": [
    "len(apps_reviews)"
   ]
  },
  {
   "cell_type": "code",
   "execution_count": 84,
   "metadata": {},
   "outputs": [],
   "source": [
    "apps_reviews_df = pd.DataFrame(apps_reviews)\n",
    "apps_reviews_df = apps_reviews_df.drop(['reviewId', 'reviewCreatedVersion', 'appVersion', 'repliedAt', 'userImage', 'at'], axis=1)"
   ]
  },
  {
   "cell_type": "code",
   "execution_count": 85,
   "metadata": {},
   "outputs": [
    {
     "data": {
      "text/html": [
       "<div>\n",
       "<style scoped>\n",
       "    .dataframe tbody tr th:only-of-type {\n",
       "        vertical-align: middle;\n",
       "    }\n",
       "\n",
       "    .dataframe tbody tr th {\n",
       "        vertical-align: top;\n",
       "    }\n",
       "\n",
       "    .dataframe thead th {\n",
       "        text-align: right;\n",
       "    }\n",
       "</style>\n",
       "<table border=\"1\" class=\"dataframe\">\n",
       "  <thead>\n",
       "    <tr style=\"text-align: right;\">\n",
       "      <th></th>\n",
       "      <th>userName</th>\n",
       "      <th>content</th>\n",
       "      <th>score</th>\n",
       "      <th>thumbsUpCount</th>\n",
       "      <th>replyContent</th>\n",
       "      <th>sortOrder</th>\n",
       "      <th>appId</th>\n",
       "    </tr>\n",
       "  </thead>\n",
       "  <tbody>\n",
       "    <tr>\n",
       "      <th>0</th>\n",
       "      <td>Guilherme Gomes</td>\n",
       "      <td>Um lixo de aplicativo. Cada vez mais a experiê...</td>\n",
       "      <td>1</td>\n",
       "      <td>17</td>\n",
       "      <td>None</td>\n",
       "      <td>most_relevant</td>\n",
       "      <td>br.com.brainweb.ifood</td>\n",
       "    </tr>\n",
       "    <tr>\n",
       "      <th>1</th>\n",
       "      <td>Ana Luiza</td>\n",
       "      <td>Quanto mais o tempo passa mais inutilizável fi...</td>\n",
       "      <td>1</td>\n",
       "      <td>12</td>\n",
       "      <td>None</td>\n",
       "      <td>most_relevant</td>\n",
       "      <td>br.com.brainweb.ifood</td>\n",
       "    </tr>\n",
       "    <tr>\n",
       "      <th>2</th>\n",
       "      <td>Guidi Yu</td>\n",
       "      <td>O atendimento pelo chat no geral era bom. Hoje...</td>\n",
       "      <td>1</td>\n",
       "      <td>19</td>\n",
       "      <td>None</td>\n",
       "      <td>most_relevant</td>\n",
       "      <td>br.com.brainweb.ifood</td>\n",
       "    </tr>\n",
       "    <tr>\n",
       "      <th>3</th>\n",
       "      <td>Igor Fernandez</td>\n",
       "      <td>Com certeza um dos piores apps que tenho, volu...</td>\n",
       "      <td>1</td>\n",
       "      <td>65</td>\n",
       "      <td>None</td>\n",
       "      <td>most_relevant</td>\n",
       "      <td>br.com.brainweb.ifood</td>\n",
       "    </tr>\n",
       "    <tr>\n",
       "      <th>4</th>\n",
       "      <td>Adriano da Costa</td>\n",
       "      <td>A aba de mercado precisa melhorar bastante. Há...</td>\n",
       "      <td>1</td>\n",
       "      <td>17</td>\n",
       "      <td>None</td>\n",
       "      <td>most_relevant</td>\n",
       "      <td>br.com.brainweb.ifood</td>\n",
       "    </tr>\n",
       "  </tbody>\n",
       "</table>\n",
       "</div>"
      ],
      "text/plain": [
       "           userName                                            content  score   \n",
       "0   Guilherme Gomes  Um lixo de aplicativo. Cada vez mais a experiê...      1  \\\n",
       "1         Ana Luiza  Quanto mais o tempo passa mais inutilizável fi...      1   \n",
       "2          Guidi Yu  O atendimento pelo chat no geral era bom. Hoje...      1   \n",
       "3    Igor Fernandez  Com certeza um dos piores apps que tenho, volu...      1   \n",
       "4  Adriano da Costa  A aba de mercado precisa melhorar bastante. Há...      1   \n",
       "\n",
       "   thumbsUpCount replyContent      sortOrder                  appId  \n",
       "0             17         None  most_relevant  br.com.brainweb.ifood  \n",
       "1             12         None  most_relevant  br.com.brainweb.ifood  \n",
       "2             19         None  most_relevant  br.com.brainweb.ifood  \n",
       "3             65         None  most_relevant  br.com.brainweb.ifood  \n",
       "4             17         None  most_relevant  br.com.brainweb.ifood  "
      ]
     },
     "execution_count": 85,
     "metadata": {},
     "output_type": "execute_result"
    }
   ],
   "source": [
    "apps_reviews_df.head()"
   ]
  },
  {
   "cell_type": "code",
   "execution_count": 86,
   "metadata": {},
   "outputs": [],
   "source": [
    "apps_reviews_df.to_csv('reviews.csv', index=None, header=True)"
   ]
  },
  {
   "cell_type": "code",
   "execution_count": 87,
   "metadata": {},
   "outputs": [],
   "source": [
    "reviews = apps_reviews_df['content'].to_numpy()"
   ]
  },
  {
   "cell_type": "markdown",
   "metadata": {},
   "source": [
    "### Pré-processando os conteúdos dos arquivos no dicionário"
   ]
  },
  {
   "cell_type": "code",
   "execution_count": 89,
   "metadata": {},
   "outputs": [],
   "source": [
    "WORD_MIN_LENGTH = 2\n",
    "STOP_WORDS_PT = [stop_word.lower() for stop_word in nltk.corpus.stopwords.words('portuguese')]\n",
    "\n",
    "def strip_accents(text):\n",
    "    nfkd = unicodedata.normalize('NFKD', text)\n",
    "    stripped_text = u\"\".join([c for c in nfkd if not unicodedata.combining(c)])\n",
    "    return re.sub('[^a-zA-Z]', ' ', stripped_text)\n",
    "\n",
    "def tokenize(text):\n",
    "    text = strip_accents(text)\n",
    "    text = re.sub(re.compile('\\n'),' ',text)\n",
    "    words = word_tokenize(text)\n",
    "    words = [word.lower() for word in words]\n",
    "    words = [word for word in words if word not in STOP_WORDS_PT and len(word) >= WORD_MIN_LENGTH]\n",
    "    return words\n",
    "\n",
    "def lemmatize(text):\n",
    "    lemmatized_text = []\n",
    "    for (word) in text:\n",
    "        lemmatizing = str(WordNetLemmatizer().lemmatize(word))\n",
    "        lemmatized_text.append(lemmatizing)\n",
    "    return lemmatized_text\n"
   ]
  }
 ],
 "metadata": {
  "kernelspec": {
   "display_name": "Python 3",
   "language": "python",
   "name": "python3"
  },
  "language_info": {
   "codemirror_mode": {
    "name": "ipython",
    "version": 3
   },
   "file_extension": ".py",
   "mimetype": "text/x-python",
   "name": "python",
   "nbconvert_exporter": "python",
   "pygments_lexer": "ipython3",
   "version": "3.10.12"
  }
 },
 "nbformat": 4,
 "nbformat_minor": 2
}
