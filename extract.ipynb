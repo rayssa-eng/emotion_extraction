{
 "cells": [
  {
   "cell_type": "code",
   "execution_count": 34,
   "metadata": {},
   "outputs": [],
   "source": [
    "import json\n",
    "import pandas as pd\n",
    "from tqdm import tqdm\n",
    "from datetime import datetime\n",
    "\n",
    "import seaborn as sns\n",
    "import matplotlib.pyplot as plt\n",
    "\n",
    "from pygments import highlight\n",
    "from pygments.lexers import JsonLexer\n",
    "from pygments.formatters import TerminalFormatter\n",
    "\n",
    "from google_play_scraper import Sort, reviews, app"
   ]
  },
  {
   "cell_type": "code",
   "execution_count": 35,
   "metadata": {},
   "outputs": [],
   "source": [
    "apps_ids = ['br.com.brainweb.ifood', 'com.cerveceriamodelo.modelonow',\n",
    "\n",
    "'com.mcdo.mcdonalds', 'habibs.alphacode.com.br',\n",
    "\n",
    "'com.ubercab.eats', 'com.grability.rappi',\n",
    "\n",
    "'burgerking.com.br.appandroid', \n",
    "\n",
    "'com.vanuatu.aiqfome',\n",
    "\n",
    "'br.com.sbf.centauro',\n",
    "\n",
    "'br.com.riachuelo.app',\n",
    "\n",
    "'com.mercadolibre',\n",
    "\n",
    "'com.amazon.mShop.android.shopping']"
   ]
  },
  {
   "cell_type": "code",
   "execution_count": 36,
   "metadata": {},
   "outputs": [
    {
     "name": "stderr",
     "output_type": "stream",
     "text": [
      "  0%|          | 0/12 [00:00<?, ?it/s]"
     ]
    },
    {
     "name": "stdout",
     "output_type": "stream",
     "text": [
      "br.com.brainweb.ifood\n"
     ]
    },
    {
     "name": "stderr",
     "output_type": "stream",
     "text": [
      "  8%|▊         | 1/12 [00:00<00:04,  2.36it/s]"
     ]
    },
    {
     "name": "stdout",
     "output_type": "stream",
     "text": [
      "com.cerveceriamodelo.modelonow\n"
     ]
    },
    {
     "name": "stderr",
     "output_type": "stream",
     "text": [
      " 17%|█▋        | 2/12 [00:00<00:03,  2.70it/s]"
     ]
    },
    {
     "name": "stdout",
     "output_type": "stream",
     "text": [
      "com.mcdo.mcdonalds\n"
     ]
    },
    {
     "name": "stderr",
     "output_type": "stream",
     "text": [
      " 25%|██▌       | 3/12 [00:01<00:03,  2.68it/s]"
     ]
    },
    {
     "name": "stdout",
     "output_type": "stream",
     "text": [
      "habibs.alphacode.com.br\n"
     ]
    },
    {
     "name": "stderr",
     "output_type": "stream",
     "text": [
      " 33%|███▎      | 4/12 [00:01<00:02,  2.84it/s]"
     ]
    },
    {
     "name": "stdout",
     "output_type": "stream",
     "text": [
      "com.ubercab.eats\n"
     ]
    },
    {
     "name": "stderr",
     "output_type": "stream",
     "text": [
      " 42%|████▏     | 5/12 [00:01<00:02,  2.72it/s]"
     ]
    },
    {
     "name": "stdout",
     "output_type": "stream",
     "text": [
      "com.grability.rappi\n"
     ]
    },
    {
     "name": "stderr",
     "output_type": "stream",
     "text": [
      " 50%|█████     | 6/12 [00:02<00:02,  2.83it/s]"
     ]
    },
    {
     "name": "stdout",
     "output_type": "stream",
     "text": [
      "burgerking.com.br.appandroid\n"
     ]
    },
    {
     "name": "stderr",
     "output_type": "stream",
     "text": [
      " 58%|█████▊    | 7/12 [00:02<00:01,  2.94it/s]"
     ]
    },
    {
     "name": "stdout",
     "output_type": "stream",
     "text": [
      "com.vanuatu.aiqfome\n"
     ]
    },
    {
     "name": "stderr",
     "output_type": "stream",
     "text": [
      " 67%|██████▋   | 8/12 [00:02<00:01,  2.94it/s]"
     ]
    },
    {
     "name": "stdout",
     "output_type": "stream",
     "text": [
      "br.com.sbf.centauro\n"
     ]
    },
    {
     "name": "stderr",
     "output_type": "stream",
     "text": [
      " 75%|███████▌  | 9/12 [00:03<00:00,  3.06it/s]"
     ]
    },
    {
     "name": "stdout",
     "output_type": "stream",
     "text": [
      "br.com.riachuelo.app\n"
     ]
    },
    {
     "name": "stderr",
     "output_type": "stream",
     "text": [
      " 83%|████████▎ | 10/12 [00:03<00:00,  3.06it/s]"
     ]
    },
    {
     "name": "stdout",
     "output_type": "stream",
     "text": [
      "com.mercadolibre\n"
     ]
    },
    {
     "name": "stderr",
     "output_type": "stream",
     "text": [
      " 92%|█████████▏| 11/12 [00:03<00:00,  3.09it/s]"
     ]
    },
    {
     "name": "stdout",
     "output_type": "stream",
     "text": [
      "com.amazon.mShop.android.shopping\n"
     ]
    },
    {
     "name": "stderr",
     "output_type": "stream",
     "text": [
      "100%|██████████| 12/12 [00:04<00:00,  2.90it/s]\n"
     ]
    }
   ],
   "source": [
    "apps_infos = []\n",
    "\n",
    "for ap in tqdm(apps_ids):\n",
    "    print(ap)\n",
    "    info = app(ap, lang='pt', country='br')\n",
    "    del info['comments']\n",
    "    apps_infos.append(info)"
   ]
  },
  {
   "cell_type": "code",
   "execution_count": 37,
   "metadata": {},
   "outputs": [
    {
     "data": {
      "text/html": [
       "<div>\n",
       "<style scoped>\n",
       "    .dataframe tbody tr th:only-of-type {\n",
       "        vertical-align: middle;\n",
       "    }\n",
       "\n",
       "    .dataframe tbody tr th {\n",
       "        vertical-align: top;\n",
       "    }\n",
       "\n",
       "    .dataframe thead th {\n",
       "        text-align: right;\n",
       "    }\n",
       "</style>\n",
       "<table border=\"1\" class=\"dataframe\">\n",
       "  <thead>\n",
       "    <tr style=\"text-align: right;\">\n",
       "      <th></th>\n",
       "      <th>title</th>\n",
       "      <th>description</th>\n",
       "      <th>descriptionHTML</th>\n",
       "      <th>summary</th>\n",
       "      <th>installs</th>\n",
       "      <th>minInstalls</th>\n",
       "      <th>realInstalls</th>\n",
       "      <th>score</th>\n",
       "      <th>ratings</th>\n",
       "      <th>reviews</th>\n",
       "      <th>...</th>\n",
       "      <th>contentRating</th>\n",
       "      <th>contentRatingDescription</th>\n",
       "      <th>adSupported</th>\n",
       "      <th>containsAds</th>\n",
       "      <th>released</th>\n",
       "      <th>lastUpdatedOn</th>\n",
       "      <th>updated</th>\n",
       "      <th>version</th>\n",
       "      <th>appId</th>\n",
       "      <th>url</th>\n",
       "    </tr>\n",
       "  </thead>\n",
       "  <tbody>\n",
       "    <tr>\n",
       "      <th>0</th>\n",
       "      <td>iFood comida e mercado em casa</td>\n",
       "      <td>Compre em mercados, restaurantes, farmácias e ...</td>\n",
       "      <td>Compre em mercados, restaurantes, farmácias e ...</td>\n",
       "      <td>Peça delivery de comida, mercado, bebidas, far...</td>\n",
       "      <td>100.000.000+</td>\n",
       "      <td>100000000</td>\n",
       "      <td>118028332</td>\n",
       "      <td>4.777237</td>\n",
       "      <td>13227509</td>\n",
       "      <td>1462373</td>\n",
       "      <td>...</td>\n",
       "      <td>Classificação Livre</td>\n",
       "      <td>None</td>\n",
       "      <td>False</td>\n",
       "      <td>False</td>\n",
       "      <td>25 de abr. de 2012</td>\n",
       "      <td>5 de jul. de 2024</td>\n",
       "      <td>1720215164</td>\n",
       "      <td>Varies with device</td>\n",
       "      <td>br.com.brainweb.ifood</td>\n",
       "      <td>https://play.google.com/store/apps/details?id=...</td>\n",
       "    </tr>\n",
       "    <tr>\n",
       "      <th>1</th>\n",
       "      <td>Zé Delivery de Bebidas</td>\n",
       "      <td>Zé Delivery: o maior app de bebidas do país! \\...</td>\n",
       "      <td>Zé Delivery: o maior app de bebidas do país! &lt;...</td>\n",
       "      <td>Delivery de bebidas a preço baixo, com entrega...</td>\n",
       "      <td>10.000.000+</td>\n",
       "      <td>10000000</td>\n",
       "      <td>23861966</td>\n",
       "      <td>4.854307</td>\n",
       "      <td>1238048</td>\n",
       "      <td>258629</td>\n",
       "      <td>...</td>\n",
       "      <td>Classificação 12 anos</td>\n",
       "      <td>Drogas Legais, Temas sensíveis</td>\n",
       "      <td>False</td>\n",
       "      <td>False</td>\n",
       "      <td>13 de dez. de 2017</td>\n",
       "      <td>7 de mai. de 2024</td>\n",
       "      <td>1715088016</td>\n",
       "      <td>24.17.1</td>\n",
       "      <td>com.cerveceriamodelo.modelonow</td>\n",
       "      <td>https://play.google.com/store/apps/details?id=...</td>\n",
       "    </tr>\n",
       "    <tr>\n",
       "      <th>2</th>\n",
       "      <td>McDonald’s: Cupons e Delivery</td>\n",
       "      <td>Bora fazer aquela Méquizice hoje?! 🍔🍦🍟Baixe o ...</td>\n",
       "      <td>Bora fazer aquela Méquizice hoje?! 🍔🍦🍟Baixe o ...</td>\n",
       "      <td>Pega essa dica: Peça seu Méqui no app pelo McD...</td>\n",
       "      <td>50.000.000+</td>\n",
       "      <td>50000000</td>\n",
       "      <td>78969847</td>\n",
       "      <td>4.665424</td>\n",
       "      <td>1593684</td>\n",
       "      <td>92792</td>\n",
       "      <td>...</td>\n",
       "      <td>Classificação Livre</td>\n",
       "      <td>None</td>\n",
       "      <td>True</td>\n",
       "      <td>True</td>\n",
       "      <td>8 de jul. de 2016</td>\n",
       "      <td>27 de jun. de 2024</td>\n",
       "      <td>1719512526</td>\n",
       "      <td>4.1.1</td>\n",
       "      <td>com.mcdo.mcdonalds</td>\n",
       "      <td>https://play.google.com/store/apps/details?id=...</td>\n",
       "    </tr>\n",
       "    <tr>\n",
       "      <th>3</th>\n",
       "      <td>Habib's: Descontos e Delivery</td>\n",
       "      <td>Bora pedir um Habib’s hoje?\\r\\nAqui no App, vo...</td>\n",
       "      <td>Bora pedir um Habib’s hoje?&lt;br&gt;Aqui no App, vo...</td>\n",
       "      <td>Quer acabar com a sua fome? Vem pro App Habib’s!</td>\n",
       "      <td>5.000.000+</td>\n",
       "      <td>5000000</td>\n",
       "      <td>9514377</td>\n",
       "      <td>4.514301</td>\n",
       "      <td>307056</td>\n",
       "      <td>78241</td>\n",
       "      <td>...</td>\n",
       "      <td>Classificação Livre</td>\n",
       "      <td>None</td>\n",
       "      <td>False</td>\n",
       "      <td>False</td>\n",
       "      <td>30 de jun. de 2019</td>\n",
       "      <td>18 de jun. de 2024</td>\n",
       "      <td>1718713339</td>\n",
       "      <td>3.10.11</td>\n",
       "      <td>habibs.alphacode.com.br</td>\n",
       "      <td>https://play.google.com/store/apps/details?id=...</td>\n",
       "    </tr>\n",
       "    <tr>\n",
       "      <th>4</th>\n",
       "      <td>Uber Eats: Delivery de Comida</td>\n",
       "      <td>Está com fome? Receba seus pratos preferidos d...</td>\n",
       "      <td>Está com fome? Receba seus pratos preferidos d...</td>\n",
       "      <td>Cupons de oferta. Delivery de comida de restau...</td>\n",
       "      <td>100.000.000+</td>\n",
       "      <td>100000000</td>\n",
       "      <td>237800878</td>\n",
       "      <td>3.876273</td>\n",
       "      <td>5470182</td>\n",
       "      <td>277864</td>\n",
       "      <td>...</td>\n",
       "      <td>Classificação Livre</td>\n",
       "      <td>None</td>\n",
       "      <td>True</td>\n",
       "      <td>True</td>\n",
       "      <td>6 de jun. de 2016</td>\n",
       "      <td>8 de jul. de 2024</td>\n",
       "      <td>1720458033</td>\n",
       "      <td>Varies with device</td>\n",
       "      <td>com.ubercab.eats</td>\n",
       "      <td>https://play.google.com/store/apps/details?id=...</td>\n",
       "    </tr>\n",
       "  </tbody>\n",
       "</table>\n",
       "<p>5 rows × 44 columns</p>\n",
       "</div>"
      ],
      "text/plain": [
       "                            title   \n",
       "0  iFood comida e mercado em casa  \\\n",
       "1          Zé Delivery de Bebidas   \n",
       "2   McDonald’s: Cupons e Delivery   \n",
       "3   Habib's: Descontos e Delivery   \n",
       "4   Uber Eats: Delivery de Comida   \n",
       "\n",
       "                                         description   \n",
       "0  Compre em mercados, restaurantes, farmácias e ...  \\\n",
       "1  Zé Delivery: o maior app de bebidas do país! \\...   \n",
       "2  Bora fazer aquela Méquizice hoje?! 🍔🍦🍟Baixe o ...   \n",
       "3  Bora pedir um Habib’s hoje?\\r\\nAqui no App, vo...   \n",
       "4  Está com fome? Receba seus pratos preferidos d...   \n",
       "\n",
       "                                     descriptionHTML   \n",
       "0  Compre em mercados, restaurantes, farmácias e ...  \\\n",
       "1  Zé Delivery: o maior app de bebidas do país! <...   \n",
       "2  Bora fazer aquela Méquizice hoje?! 🍔🍦🍟Baixe o ...   \n",
       "3  Bora pedir um Habib’s hoje?<br>Aqui no App, vo...   \n",
       "4  Está com fome? Receba seus pratos preferidos d...   \n",
       "\n",
       "                                             summary      installs   \n",
       "0  Peça delivery de comida, mercado, bebidas, far...  100.000.000+  \\\n",
       "1  Delivery de bebidas a preço baixo, com entrega...   10.000.000+   \n",
       "2  Pega essa dica: Peça seu Méqui no app pelo McD...   50.000.000+   \n",
       "3   Quer acabar com a sua fome? Vem pro App Habib’s!    5.000.000+   \n",
       "4  Cupons de oferta. Delivery de comida de restau...  100.000.000+   \n",
       "\n",
       "   minInstalls  realInstalls     score   ratings  reviews  ...   \n",
       "0    100000000     118028332  4.777237  13227509  1462373  ...  \\\n",
       "1     10000000      23861966  4.854307   1238048   258629  ...   \n",
       "2     50000000      78969847  4.665424   1593684    92792  ...   \n",
       "3      5000000       9514377  4.514301    307056    78241  ...   \n",
       "4    100000000     237800878  3.876273   5470182   277864  ...   \n",
       "\n",
       "           contentRating        contentRatingDescription  adSupported   \n",
       "0    Classificação Livre                            None        False  \\\n",
       "1  Classificação 12 anos  Drogas Legais, Temas sensíveis        False   \n",
       "2    Classificação Livre                            None         True   \n",
       "3    Classificação Livre                            None        False   \n",
       "4    Classificação Livre                            None         True   \n",
       "\n",
       "  containsAds            released       lastUpdatedOn     updated   \n",
       "0       False  25 de abr. de 2012   5 de jul. de 2024  1720215164  \\\n",
       "1       False  13 de dez. de 2017   7 de mai. de 2024  1715088016   \n",
       "2        True   8 de jul. de 2016  27 de jun. de 2024  1719512526   \n",
       "3       False  30 de jun. de 2019  18 de jun. de 2024  1718713339   \n",
       "4        True   6 de jun. de 2016   8 de jul. de 2024  1720458033   \n",
       "\n",
       "              version                           appId   \n",
       "0  Varies with device           br.com.brainweb.ifood  \\\n",
       "1             24.17.1  com.cerveceriamodelo.modelonow   \n",
       "2               4.1.1              com.mcdo.mcdonalds   \n",
       "3             3.10.11         habibs.alphacode.com.br   \n",
       "4  Varies with device                com.ubercab.eats   \n",
       "\n",
       "                                                 url  \n",
       "0  https://play.google.com/store/apps/details?id=...  \n",
       "1  https://play.google.com/store/apps/details?id=...  \n",
       "2  https://play.google.com/store/apps/details?id=...  \n",
       "3  https://play.google.com/store/apps/details?id=...  \n",
       "4  https://play.google.com/store/apps/details?id=...  \n",
       "\n",
       "[5 rows x 44 columns]"
      ]
     },
     "execution_count": 37,
     "metadata": {},
     "output_type": "execute_result"
    }
   ],
   "source": [
    "apps_infos_df = pd.DataFrame(apps_infos)\n",
    "apps_infos_df.head()"
   ]
  },
  {
   "cell_type": "code",
   "execution_count": 38,
   "metadata": {},
   "outputs": [
    {
     "name": "stderr",
     "output_type": "stream",
     "text": [
      "100%|██████████| 12/12 [00:41<00:00,  3.48s/it]\n"
     ]
    }
   ],
   "source": [
    "apps_reviews = []\n",
    "\n",
    "for ap in tqdm(apps_ids):\n",
    "    for score in list(range(1, 6)):\n",
    "        for sort_order in [Sort.MOST_RELEVANT, Sort.NEWEST]:\n",
    "            rvs, _ = reviews(\n",
    "                ap,\n",
    "                lang='pt',\n",
    "                country='br',\n",
    "                sort=sort_order,\n",
    "                count= 200 if score == 3 else 100,\n",
    "                filter_score_with=score\n",
    "            )\n",
    "            for r in rvs:\n",
    "                r['sortOrder'] = 'most_relevant' if sort_order == Sort.MOST_RELEVANT else 'newest'\n",
    "                r['appId'] = ap\n",
    "            apps_reviews.extend(rvs)"
   ]
  },
  {
   "cell_type": "code",
   "execution_count": 39,
   "metadata": {},
   "outputs": [],
   "source": [
    "apps_reviews_df = pd.DataFrame(apps_reviews)\n",
    "apps_reviews_df = apps_reviews_df.drop(['reviewId', 'reviewCreatedVersion', 'appVersion', 'repliedAt', 'userImage', 'at'], axis=1)"
   ]
  },
  {
   "cell_type": "code",
   "execution_count": 41,
   "metadata": {},
   "outputs": [
    {
     "data": {
      "text/html": [
       "<div>\n",
       "<style scoped>\n",
       "    .dataframe tbody tr th:only-of-type {\n",
       "        vertical-align: middle;\n",
       "    }\n",
       "\n",
       "    .dataframe tbody tr th {\n",
       "        vertical-align: top;\n",
       "    }\n",
       "\n",
       "    .dataframe thead th {\n",
       "        text-align: right;\n",
       "    }\n",
       "</style>\n",
       "<table border=\"1\" class=\"dataframe\">\n",
       "  <thead>\n",
       "    <tr style=\"text-align: right;\">\n",
       "      <th></th>\n",
       "      <th>userName</th>\n",
       "      <th>content</th>\n",
       "      <th>score</th>\n",
       "      <th>thumbsUpCount</th>\n",
       "      <th>replyContent</th>\n",
       "      <th>sortOrder</th>\n",
       "      <th>appId</th>\n",
       "    </tr>\n",
       "  </thead>\n",
       "  <tbody>\n",
       "    <tr>\n",
       "      <th>0</th>\n",
       "      <td>Guilherme Gomes</td>\n",
       "      <td>Um lixo de aplicativo. Cada vez mais a experiê...</td>\n",
       "      <td>1</td>\n",
       "      <td>17</td>\n",
       "      <td>None</td>\n",
       "      <td>most_relevant</td>\n",
       "      <td>br.com.brainweb.ifood</td>\n",
       "    </tr>\n",
       "    <tr>\n",
       "      <th>1</th>\n",
       "      <td>Ana Luiza</td>\n",
       "      <td>Quanto mais o tempo passa mais inutilizável fi...</td>\n",
       "      <td>1</td>\n",
       "      <td>11</td>\n",
       "      <td>None</td>\n",
       "      <td>most_relevant</td>\n",
       "      <td>br.com.brainweb.ifood</td>\n",
       "    </tr>\n",
       "    <tr>\n",
       "      <th>2</th>\n",
       "      <td>Guidi Yu</td>\n",
       "      <td>O atendimento pelo chat no geral era bom. Hoje...</td>\n",
       "      <td>1</td>\n",
       "      <td>19</td>\n",
       "      <td>None</td>\n",
       "      <td>most_relevant</td>\n",
       "      <td>br.com.brainweb.ifood</td>\n",
       "    </tr>\n",
       "    <tr>\n",
       "      <th>3</th>\n",
       "      <td>Igor Fernandez</td>\n",
       "      <td>Com certeza um dos piores apps que tenho, volu...</td>\n",
       "      <td>1</td>\n",
       "      <td>65</td>\n",
       "      <td>None</td>\n",
       "      <td>most_relevant</td>\n",
       "      <td>br.com.brainweb.ifood</td>\n",
       "    </tr>\n",
       "    <tr>\n",
       "      <th>4</th>\n",
       "      <td>Adriano da Costa</td>\n",
       "      <td>A aba de mercado precisa melhorar bastante. Há...</td>\n",
       "      <td>1</td>\n",
       "      <td>17</td>\n",
       "      <td>None</td>\n",
       "      <td>most_relevant</td>\n",
       "      <td>br.com.brainweb.ifood</td>\n",
       "    </tr>\n",
       "  </tbody>\n",
       "</table>\n",
       "</div>"
      ],
      "text/plain": [
       "           userName                                            content  score   \n",
       "0   Guilherme Gomes  Um lixo de aplicativo. Cada vez mais a experiê...      1  \\\n",
       "1         Ana Luiza  Quanto mais o tempo passa mais inutilizável fi...      1   \n",
       "2          Guidi Yu  O atendimento pelo chat no geral era bom. Hoje...      1   \n",
       "3    Igor Fernandez  Com certeza um dos piores apps que tenho, volu...      1   \n",
       "4  Adriano da Costa  A aba de mercado precisa melhorar bastante. Há...      1   \n",
       "\n",
       "   thumbsUpCount replyContent      sortOrder                  appId  \n",
       "0             17         None  most_relevant  br.com.brainweb.ifood  \n",
       "1             11         None  most_relevant  br.com.brainweb.ifood  \n",
       "2             19         None  most_relevant  br.com.brainweb.ifood  \n",
       "3             65         None  most_relevant  br.com.brainweb.ifood  \n",
       "4             17         None  most_relevant  br.com.brainweb.ifood  "
      ]
     },
     "execution_count": 41,
     "metadata": {},
     "output_type": "execute_result"
    }
   ],
   "source": [
    "apps_reviews_df.head()"
   ]
  },
  {
   "cell_type": "code",
   "execution_count": 42,
   "metadata": {},
   "outputs": [],
   "source": [
    "apps_reviews_df.to_csv('reviews.csv', index=None, header=True)"
   ]
  },
  {
   "cell_type": "code",
   "execution_count": 44,
   "metadata": {},
   "outputs": [
    {
     "data": {
      "text/plain": [
       "array(['Um lixo de aplicativo. Cada vez mais a experiência do cliente se torna horrível. A ideia é escalar a qualquer custo, coloco restaurante que não tem capacidade. Você paga pela entrega e não chega. Você pede a coisa A e vem a B. Uso o ifood faz 10 anos. O último ano foi tenebroso. Lembro do pitch que era: excelência nos restaurantes para expandir. Agora tem mercado, mas nem os restaurantes conseguem fazer direito. Lixo de empresa.',\n",
       "       'Quanto mais o tempo passa mais inutilizável fica esse aplicativo! Preços absurdos, vem aquelas falsas propagandas de coisas por 0,99 mas o valor do frete é o preço original da comida que está por 0,99. Nojo desse aplicativo! Ainda há uma estabilidade quando tentamos nos comunicar com os estabelecimentos, abro o chat e diz que a net caiu, dá todo tipo de erro! Esse aplicativo já deveria ter acabado! Cupons inúteis, fretes absurdos, instabilidades e fake news! DESINSTALANDO',\n",
       "       'O atendimento pelo chat no geral era bom. Hoje tive problemas com uma entrega e o atendente foi péssimo e parecia debochar de mim ao replicar 3 vezes a mesma resposta. Depois de anos como cliente me senti bastante desrespeitada, além de prejudicada quanto ao valor. O app trava no pagamento direto. Essa empresa não é séria quanto a experiência do cliente.',\n",
       "       ..., 'Otimo', 'loja confiável',\n",
       "       'A amazom e muito boa tem produtos baratos vi uma caneta de 5,00'],\n",
       "      dtype=object)"
      ]
     },
     "execution_count": 44,
     "metadata": {},
     "output_type": "execute_result"
    }
   ],
   "source": [
    "reviews = apps_reviews_df['content'].to_numpy()\n",
    "reviews"
   ]
  },
  {
   "cell_type": "code",
   "execution_count": null,
   "metadata": {},
   "outputs": [],
   "source": []
  }
 ],
 "metadata": {
  "kernelspec": {
   "display_name": "Python 3",
   "language": "python",
   "name": "python3"
  },
  "language_info": {
   "codemirror_mode": {
    "name": "ipython",
    "version": 3
   },
   "file_extension": ".py",
   "mimetype": "text/x-python",
   "name": "python",
   "nbconvert_exporter": "python",
   "pygments_lexer": "ipython3",
   "version": "3.10.12"
  }
 },
 "nbformat": 4,
 "nbformat_minor": 2
}
