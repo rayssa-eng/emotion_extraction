{
 "cells": [
  {
   "cell_type": "code",
   "execution_count": 2,
   "metadata": {},
   "outputs": [
    {
     "ename": "KeyboardInterrupt",
     "evalue": "",
     "output_type": "error",
     "traceback": [
      "\u001b[0;31m---------------------------------------------------------------------------\u001b[0m",
      "\u001b[0;31mKeyboardInterrupt\u001b[0m                         Traceback (most recent call last)",
      "Cell \u001b[0;32mIn[2], line 1\u001b[0m\n\u001b[0;32m----> 1\u001b[0m \u001b[38;5;28;01mimport\u001b[39;00m \u001b[38;5;21;01mpandas\u001b[39;00m \u001b[38;5;28;01mas\u001b[39;00m \u001b[38;5;21;01mpd\u001b[39;00m\n\u001b[1;32m      2\u001b[0m \u001b[38;5;28;01mimport\u001b[39;00m \u001b[38;5;21;01mnumpy\u001b[39;00m \u001b[38;5;28;01mas\u001b[39;00m \u001b[38;5;21;01mnp\u001b[39;00m\n\u001b[1;32m      3\u001b[0m \u001b[38;5;28;01mimport\u001b[39;00m \u001b[38;5;21;01mmatplotlib\u001b[39;00m\u001b[38;5;21;01m.\u001b[39;00m\u001b[38;5;21;01mpyplot\u001b[39;00m \u001b[38;5;28;01mas\u001b[39;00m \u001b[38;5;21;01mplt\u001b[39;00m\n",
      "File \u001b[0;32m~/.local/lib/python3.10/site-packages/pandas/__init__.py:22\u001b[0m\n\u001b[1;32m     19\u001b[0m \u001b[38;5;28;01mdel\u001b[39;00m _hard_dependencies, _dependency, _missing_dependencies\n\u001b[1;32m     21\u001b[0m \u001b[38;5;66;03m# numpy compat\u001b[39;00m\n\u001b[0;32m---> 22\u001b[0m \u001b[38;5;28;01mfrom\u001b[39;00m \u001b[38;5;21;01mpandas\u001b[39;00m\u001b[38;5;21;01m.\u001b[39;00m\u001b[38;5;21;01mcompat\u001b[39;00m \u001b[38;5;28;01mimport\u001b[39;00m is_numpy_dev \u001b[38;5;28;01mas\u001b[39;00m _is_numpy_dev  \u001b[38;5;66;03m# pyright: ignore # noqa:F401\u001b[39;00m\n\u001b[1;32m     24\u001b[0m \u001b[38;5;28;01mtry\u001b[39;00m:\n\u001b[1;32m     25\u001b[0m     \u001b[38;5;28;01mfrom\u001b[39;00m \u001b[38;5;21;01mpandas\u001b[39;00m\u001b[38;5;21;01m.\u001b[39;00m\u001b[38;5;21;01m_libs\u001b[39;00m \u001b[38;5;28;01mimport\u001b[39;00m hashtable \u001b[38;5;28;01mas\u001b[39;00m _hashtable, lib \u001b[38;5;28;01mas\u001b[39;00m _lib, tslib \u001b[38;5;28;01mas\u001b[39;00m _tslib\n",
      "File \u001b[0;32m~/.local/lib/python3.10/site-packages/pandas/compat/__init__.py:25\u001b[0m\n\u001b[1;32m     17\u001b[0m \u001b[38;5;28;01mfrom\u001b[39;00m \u001b[38;5;21;01mpandas\u001b[39;00m\u001b[38;5;21;01m.\u001b[39;00m\u001b[38;5;21;01mcompat\u001b[39;00m\u001b[38;5;21;01m.\u001b[39;00m\u001b[38;5;21;01m_constants\u001b[39;00m \u001b[38;5;28;01mimport\u001b[39;00m (\n\u001b[1;32m     18\u001b[0m     IS64,\n\u001b[1;32m     19\u001b[0m     PY39,\n\u001b[0;32m   (...)\u001b[0m\n\u001b[1;32m     22\u001b[0m     PYPY,\n\u001b[1;32m     23\u001b[0m )\n\u001b[1;32m     24\u001b[0m \u001b[38;5;28;01mimport\u001b[39;00m \u001b[38;5;21;01mpandas\u001b[39;00m\u001b[38;5;21;01m.\u001b[39;00m\u001b[38;5;21;01mcompat\u001b[39;00m\u001b[38;5;21;01m.\u001b[39;00m\u001b[38;5;21;01mcompressors\u001b[39;00m\n\u001b[0;32m---> 25\u001b[0m \u001b[38;5;28;01mfrom\u001b[39;00m \u001b[38;5;21;01mpandas\u001b[39;00m\u001b[38;5;21;01m.\u001b[39;00m\u001b[38;5;21;01mcompat\u001b[39;00m\u001b[38;5;21;01m.\u001b[39;00m\u001b[38;5;21;01mnumpy\u001b[39;00m \u001b[38;5;28;01mimport\u001b[39;00m (\n\u001b[1;32m     26\u001b[0m     is_numpy_dev,\n\u001b[1;32m     27\u001b[0m     np_version_under1p21,\n\u001b[1;32m     28\u001b[0m )\n\u001b[1;32m     29\u001b[0m \u001b[38;5;28;01mfrom\u001b[39;00m \u001b[38;5;21;01mpandas\u001b[39;00m\u001b[38;5;21;01m.\u001b[39;00m\u001b[38;5;21;01mcompat\u001b[39;00m\u001b[38;5;21;01m.\u001b[39;00m\u001b[38;5;21;01mpyarrow\u001b[39;00m \u001b[38;5;28;01mimport\u001b[39;00m (\n\u001b[1;32m     30\u001b[0m     pa_version_under7p0,\n\u001b[1;32m     31\u001b[0m     pa_version_under8p0,\n\u001b[1;32m     32\u001b[0m     pa_version_under9p0,\n\u001b[1;32m     33\u001b[0m     pa_version_under11p0,\n\u001b[1;32m     34\u001b[0m )\n\u001b[1;32m     37\u001b[0m \u001b[38;5;28;01mdef\u001b[39;00m \u001b[38;5;21mset_function_name\u001b[39m(f: F, name: \u001b[38;5;28mstr\u001b[39m, \u001b[38;5;28mcls\u001b[39m) \u001b[38;5;241m-\u001b[39m\u001b[38;5;241m>\u001b[39m F:\n",
      "File \u001b[0;32m~/.local/lib/python3.10/site-packages/pandas/compat/numpy/__init__.py:13\u001b[0m\n\u001b[1;32m     11\u001b[0m np_version_gte1p22 \u001b[38;5;241m=\u001b[39m _nlv \u001b[38;5;241m>\u001b[39m\u001b[38;5;241m=\u001b[39m Version(\u001b[38;5;124m\"\u001b[39m\u001b[38;5;124m1.22\u001b[39m\u001b[38;5;124m\"\u001b[39m)\n\u001b[1;32m     12\u001b[0m np_version_gte1p24 \u001b[38;5;241m=\u001b[39m _nlv \u001b[38;5;241m>\u001b[39m\u001b[38;5;241m=\u001b[39m Version(\u001b[38;5;124m\"\u001b[39m\u001b[38;5;124m1.24\u001b[39m\u001b[38;5;124m\"\u001b[39m)\n\u001b[0;32m---> 13\u001b[0m np_version_gte1p24p3 \u001b[38;5;241m=\u001b[39m _nlv \u001b[38;5;241m>\u001b[39m\u001b[38;5;241m=\u001b[39m \u001b[43mVersion\u001b[49m\u001b[43m(\u001b[49m\u001b[38;5;124;43m\"\u001b[39;49m\u001b[38;5;124;43m1.24.3\u001b[39;49m\u001b[38;5;124;43m\"\u001b[39;49m\u001b[43m)\u001b[49m\n\u001b[1;32m     14\u001b[0m is_numpy_dev \u001b[38;5;241m=\u001b[39m _nlv\u001b[38;5;241m.\u001b[39mdev \u001b[38;5;129;01mis\u001b[39;00m \u001b[38;5;129;01mnot\u001b[39;00m \u001b[38;5;28;01mNone\u001b[39;00m\n\u001b[1;32m     15\u001b[0m _min_numpy_ver \u001b[38;5;241m=\u001b[39m \u001b[38;5;124m\"\u001b[39m\u001b[38;5;124m1.20.3\u001b[39m\u001b[38;5;124m\"\u001b[39m\n",
      "File \u001b[0;32m~/.local/lib/python3.10/site-packages/pandas/util/version/__init__.py:336\u001b[0m, in \u001b[0;36mVersion.__init__\u001b[0;34m(self, version)\u001b[0m\n\u001b[1;32m    334\u001b[0m \u001b[38;5;28;01mdef\u001b[39;00m \u001b[38;5;21m__init__\u001b[39m(\u001b[38;5;28mself\u001b[39m, version: \u001b[38;5;28mstr\u001b[39m) \u001b[38;5;241m-\u001b[39m\u001b[38;5;241m>\u001b[39m \u001b[38;5;28;01mNone\u001b[39;00m:\n\u001b[1;32m    335\u001b[0m     \u001b[38;5;66;03m# Validate the version and parse it into pieces\u001b[39;00m\n\u001b[0;32m--> 336\u001b[0m     match \u001b[38;5;241m=\u001b[39m \u001b[38;5;28;43mself\u001b[39;49m\u001b[38;5;241;43m.\u001b[39;49m\u001b[43m_regex\u001b[49m\u001b[38;5;241;43m.\u001b[39;49m\u001b[43msearch\u001b[49m\u001b[43m(\u001b[49m\u001b[43mversion\u001b[49m\u001b[43m)\u001b[49m\n\u001b[1;32m    337\u001b[0m     \u001b[38;5;28;01mif\u001b[39;00m \u001b[38;5;129;01mnot\u001b[39;00m match:\n\u001b[1;32m    338\u001b[0m         \u001b[38;5;28;01mraise\u001b[39;00m InvalidVersion(\u001b[38;5;124mf\u001b[39m\u001b[38;5;124m\"\u001b[39m\u001b[38;5;124mInvalid version: \u001b[39m\u001b[38;5;124m'\u001b[39m\u001b[38;5;132;01m{\u001b[39;00mversion\u001b[38;5;132;01m}\u001b[39;00m\u001b[38;5;124m'\u001b[39m\u001b[38;5;124m\"\u001b[39m)\n",
      "\u001b[0;31mKeyboardInterrupt\u001b[0m: "
     ]
    }
   ],
   "source": [
    "import pandas as pd\n",
    "import numpy as np\n",
    "import matplotlib.pyplot as plt\n",
    "import seaborn as sns\n",
    "import unicodedata\n",
    "import re\n",
    "from deep_translator import GoogleTranslator\n",
    "\n",
    "from tqdm import tqdm\n",
    "\n",
    "plt.style.use('ggplot')\n",
    "\n",
    "import nltk\n",
    "from nltk.tokenize import word_tokenize\n",
    "from nltk.sentiment import SentimentIntensityAnalyzer\n",
    "from nltk.stem import WordNetLemmatizer\n",
    "from spellchecker import SpellChecker\n",
    "\n",
    "from google_play_scraper import Sort, reviews, app"
   ]
  },
  {
   "cell_type": "code",
   "execution_count": null,
   "metadata": {},
   "outputs": [
    {
     "name": "stderr",
     "output_type": "stream",
     "text": [
      "[nltk_data] Downloading package vader_lexicon to\n",
      "[nltk_data]     /home/raycalm/nltk_data...\n",
      "[nltk_data]   Package vader_lexicon is already up-to-date!\n"
     ]
    },
    {
     "data": {
      "text/plain": [
       "True"
      ]
     },
     "execution_count": 86,
     "metadata": {},
     "output_type": "execute_result"
    }
   ],
   "source": [
    "nltk.download('vader_lexicon')"
   ]
  },
  {
   "cell_type": "code",
   "execution_count": null,
   "metadata": {},
   "outputs": [],
   "source": [
    "apps_ids = ['br.com.brainweb.ifood', 'com.cerveceriamodelo.modelonow',\n",
    "\n",
    "'com.mcdo.mcdonalds', 'habibs.alphacode.com.br',\n",
    "\n",
    "'com.ubercab.eats', 'com.grability.rappi',\n",
    "\n",
    "'burgerking.com.br.appandroid', \n",
    "\n",
    "'com.vanuatu.aiqfome',\n",
    "\n",
    "'br.com.sbf.centauro',\n",
    "\n",
    "'br.com.riachuelo.app',\n",
    "\n",
    "'com.mercadolibre',\n",
    "\n",
    "'com.cerveceriamodelo.modelonow',\n",
    "\n",
    "'com.amazon.mShop.android.shopping',\n",
    "\n",
    "'br.gov.meugovbr',\n",
    "\n",
    "'com.b2w.americanas',\n",
    "\n",
    "'br.com.lojasrenner',\n",
    "\n",
    "'br.com.marisa.android',\n",
    "\n",
    "'com.zzkko',\n",
    "\n",
    "'com.luizalabs.mlapp']"
   ]
  },
  {
   "cell_type": "code",
   "execution_count": null,
   "metadata": {},
   "outputs": [
    {
     "name": "stderr",
     "output_type": "stream",
     "text": [
      "100%|██████████| 19/19 [01:16<00:00,  4.05s/it]\n"
     ]
    }
   ],
   "source": [
    "apps_reviews = []\n",
    "\n",
    "for ap in tqdm(apps_ids):\n",
    "    for score in list(range(1, 6)):\n",
    "        for sort_order in [Sort.MOST_RELEVANT, Sort.NEWEST]:\n",
    "            rvs, _ = reviews(\n",
    "                ap,\n",
    "                lang='pt',\n",
    "                country='br',\n",
    "                sort=sort_order,\n",
    "                count= 200 if score == 3 else 100,\n",
    "                filter_score_with=score\n",
    "            )\n",
    "            for r in rvs:\n",
    "                r['sortOrder'] = 'most_relevant' if sort_order == Sort.MOST_RELEVANT else 'newest'\n",
    "                r['appId'] = ap\n",
    "            apps_reviews.extend(rvs)"
   ]
  },
  {
   "cell_type": "code",
   "execution_count": null,
   "metadata": {},
   "outputs": [],
   "source": [
    "df = pd.DataFrame(apps_reviews)"
   ]
  },
  {
   "cell_type": "code",
   "execution_count": null,
   "metadata": {},
   "outputs": [],
   "source": [
    "df = df.drop(['reviewId'], axis=1)\n",
    "df['id'] = range(1, len(df) + 1)"
   ]
  },
  {
   "cell_type": "code",
   "execution_count": null,
   "metadata": {},
   "outputs": [],
   "source": []
  },
  {
   "cell_type": "code",
   "execution_count": null,
   "metadata": {},
   "outputs": [
    {
     "data": {
      "text/html": [
       "<div>\n",
       "<style scoped>\n",
       "    .dataframe tbody tr th:only-of-type {\n",
       "        vertical-align: middle;\n",
       "    }\n",
       "\n",
       "    .dataframe tbody tr th {\n",
       "        vertical-align: top;\n",
       "    }\n",
       "\n",
       "    .dataframe thead th {\n",
       "        text-align: right;\n",
       "    }\n",
       "</style>\n",
       "<table border=\"1\" class=\"dataframe\">\n",
       "  <thead>\n",
       "    <tr style=\"text-align: right;\">\n",
       "      <th></th>\n",
       "      <th>userName</th>\n",
       "      <th>userImage</th>\n",
       "      <th>content</th>\n",
       "      <th>score</th>\n",
       "      <th>thumbsUpCount</th>\n",
       "      <th>reviewCreatedVersion</th>\n",
       "      <th>at</th>\n",
       "      <th>replyContent</th>\n",
       "      <th>repliedAt</th>\n",
       "      <th>appVersion</th>\n",
       "      <th>sortOrder</th>\n",
       "      <th>appId</th>\n",
       "      <th>id</th>\n",
       "    </tr>\n",
       "  </thead>\n",
       "  <tbody>\n",
       "    <tr>\n",
       "      <th>0</th>\n",
       "      <td>Fabiano Porto</td>\n",
       "      <td>https://play-lh.googleusercontent.com/a-/ALV-U...</td>\n",
       "      <td>Já é a segunda vez que tento resolver um probl...</td>\n",
       "      <td>1</td>\n",
       "      <td>28</td>\n",
       "      <td>10.24.0</td>\n",
       "      <td>2024-07-14 15:24:26</td>\n",
       "      <td>None</td>\n",
       "      <td>NaT</td>\n",
       "      <td>10.24.0</td>\n",
       "      <td>most_relevant</td>\n",
       "      <td>br.com.brainweb.ifood</td>\n",
       "      <td>1</td>\n",
       "    </tr>\n",
       "    <tr>\n",
       "      <th>1</th>\n",
       "      <td>Guilherme Gomes</td>\n",
       "      <td>https://play-lh.googleusercontent.com/a/ACg8oc...</td>\n",
       "      <td>Um lixo de aplicativo. Cada vez mais a experiê...</td>\n",
       "      <td>1</td>\n",
       "      <td>34</td>\n",
       "      <td>10.24.0</td>\n",
       "      <td>2024-07-08 17:11:27</td>\n",
       "      <td>None</td>\n",
       "      <td>NaT</td>\n",
       "      <td>10.24.0</td>\n",
       "      <td>most_relevant</td>\n",
       "      <td>br.com.brainweb.ifood</td>\n",
       "      <td>2</td>\n",
       "    </tr>\n",
       "    <tr>\n",
       "      <th>2</th>\n",
       "      <td>Guidi Yu</td>\n",
       "      <td>https://play-lh.googleusercontent.com/a-/ALV-U...</td>\n",
       "      <td>O atendimento pelo chat no geral era bom. Hoje...</td>\n",
       "      <td>1</td>\n",
       "      <td>30</td>\n",
       "      <td>10.24.0</td>\n",
       "      <td>2024-07-05 21:21:42</td>\n",
       "      <td>None</td>\n",
       "      <td>NaT</td>\n",
       "      <td>10.24.0</td>\n",
       "      <td>most_relevant</td>\n",
       "      <td>br.com.brainweb.ifood</td>\n",
       "      <td>3</td>\n",
       "    </tr>\n",
       "    <tr>\n",
       "      <th>3</th>\n",
       "      <td>Luis Martins</td>\n",
       "      <td>https://play-lh.googleusercontent.com/a/ACg8oc...</td>\n",
       "      <td>Estou bem decepcionado com o app. É cada vez m...</td>\n",
       "      <td>1</td>\n",
       "      <td>3</td>\n",
       "      <td>10.24.0</td>\n",
       "      <td>2024-07-13 17:02:54</td>\n",
       "      <td>None</td>\n",
       "      <td>NaT</td>\n",
       "      <td>10.24.0</td>\n",
       "      <td>most_relevant</td>\n",
       "      <td>br.com.brainweb.ifood</td>\n",
       "      <td>4</td>\n",
       "    </tr>\n",
       "    <tr>\n",
       "      <th>4</th>\n",
       "      <td>Igor Fernandez</td>\n",
       "      <td>https://play-lh.googleusercontent.com/a/ACg8oc...</td>\n",
       "      <td>Com certeza um dos piores apps que tenho, volu...</td>\n",
       "      <td>1</td>\n",
       "      <td>69</td>\n",
       "      <td>10.24.0</td>\n",
       "      <td>2024-07-04 19:58:07</td>\n",
       "      <td>None</td>\n",
       "      <td>NaT</td>\n",
       "      <td>10.24.0</td>\n",
       "      <td>most_relevant</td>\n",
       "      <td>br.com.brainweb.ifood</td>\n",
       "      <td>5</td>\n",
       "    </tr>\n",
       "  </tbody>\n",
       "</table>\n",
       "</div>"
      ],
      "text/plain": [
       "          userName                                          userImage   \n",
       "0    Fabiano Porto  https://play-lh.googleusercontent.com/a-/ALV-U...  \\\n",
       "1  Guilherme Gomes  https://play-lh.googleusercontent.com/a/ACg8oc...   \n",
       "2         Guidi Yu  https://play-lh.googleusercontent.com/a-/ALV-U...   \n",
       "3     Luis Martins  https://play-lh.googleusercontent.com/a/ACg8oc...   \n",
       "4   Igor Fernandez  https://play-lh.googleusercontent.com/a/ACg8oc...   \n",
       "\n",
       "                                             content  score  thumbsUpCount   \n",
       "0  Já é a segunda vez que tento resolver um probl...      1             28  \\\n",
       "1  Um lixo de aplicativo. Cada vez mais a experiê...      1             34   \n",
       "2  O atendimento pelo chat no geral era bom. Hoje...      1             30   \n",
       "3  Estou bem decepcionado com o app. É cada vez m...      1              3   \n",
       "4  Com certeza um dos piores apps que tenho, volu...      1             69   \n",
       "\n",
       "  reviewCreatedVersion                  at replyContent repliedAt appVersion   \n",
       "0              10.24.0 2024-07-14 15:24:26         None       NaT    10.24.0  \\\n",
       "1              10.24.0 2024-07-08 17:11:27         None       NaT    10.24.0   \n",
       "2              10.24.0 2024-07-05 21:21:42         None       NaT    10.24.0   \n",
       "3              10.24.0 2024-07-13 17:02:54         None       NaT    10.24.0   \n",
       "4              10.24.0 2024-07-04 19:58:07         None       NaT    10.24.0   \n",
       "\n",
       "       sortOrder                  appId  id  \n",
       "0  most_relevant  br.com.brainweb.ifood   1  \n",
       "1  most_relevant  br.com.brainweb.ifood   2  \n",
       "2  most_relevant  br.com.brainweb.ifood   3  \n",
       "3  most_relevant  br.com.brainweb.ifood   4  \n",
       "4  most_relevant  br.com.brainweb.ifood   5  "
      ]
     },
     "execution_count": 91,
     "metadata": {},
     "output_type": "execute_result"
    }
   ],
   "source": [
    "df.head()"
   ]
  },
  {
   "cell_type": "code",
   "execution_count": null,
   "metadata": {},
   "outputs": [
    {
     "data": {
      "image/png": "[encoded data removed]",
      "text/plain": [
       "<Figure size 1000x500 with 1 Axes>"
      ]
     },
     "metadata": {},
     "output_type": "display_data"
    }
   ],
   "source": [
    "ax = df['score'].value_counts().sort_index().plot(kind='bar', title='Quantidade de Reviews por estrelas', figsize=(10, 5))\n",
    "ax.set_xlabel('Estrelas')\n",
    "plt.show()"
   ]
  },
  {
   "cell_type": "markdown",
   "metadata": {},
   "source": [
    "### NLTK Básico"
   ]
  },
  {
   "cell_type": "code",
   "execution_count": null,
   "metadata": {},
   "outputs": [],
   "source": [
    "WORD_MIN_LENGTH = 2\n",
    "STOP_WORDS_PT = [stop_word.lower() for stop_word in nltk.corpus.stopwords.words('portuguese')]\n",
    "spell = SpellChecker(language='pt')\n",
    "\n",
    "def strip_accents(text):\n",
    "    nfkd = unicodedata.normalize('NFKD', text)\n",
    "    stripped_text = u\"\".join([c for c in nfkd if not unicodedata.combining(c)])\n",
    "    return re.sub('[^a-zA-Z]', ' ', stripped_text)\n",
    "\n",
    "def tokenize(text):\n",
    "    text = strip_accents(text)\n",
    "    text = re.sub(re.compile('\\n'),' ',text)\n",
    "    words = word_tokenize(text)\n",
    "    words = [word.lower() for word in words]\n",
    "    words = [word for word in words if word not in STOP_WORDS_PT and len(word) >= WORD_MIN_LENGTH]\n",
    "    return words\n",
    "\n",
    "def lemmatize(text):\n",
    "    lemmatized_text = []\n",
    "    for (word) in text:\n",
    "        lemmatizing = str(WordNetLemmatizer().lemmatize(word))\n",
    "        lemmatized_text.append(lemmatizing)\n",
    "    return lemmatized_text\n",
    "\n",
    "def preprocess_stl(array):\n",
    "    preprocessed = []\n",
    "\n",
    "    stripped_rvs = [strip_accents(rvs) for rvs in array]\n",
    "    tokenized_rvs = [tokenize(rvs) for rvs in stripped_rvs]\n",
    "    lemmatized_rvs = [lemmatize(rvs) for rvs in tokenized_rvs]\n",
    "\n",
    "    preprocessed = lemmatized_rvs\n",
    "\n",
    "    return preprocessed\n",
    "\n"
   ]
  },
  {
   "cell_type": "markdown",
   "metadata": {},
   "source": [
    "## Utilizando VADER\n",
    "Abordagem BoW - removeremos stop words e cada palavra remeterá a uma pontuação e essas pontuações serão combinadas para obter uma pontuação final"
   ]
  },
  {
   "cell_type": "code",
   "execution_count": null,
   "metadata": {},
   "outputs": [],
   "source": [
    "sia = SentimentIntensityAnalyzer()\n",
    "translator = GoogleTranslator(source='pt', target='en')"
   ]
  },
  {
   "cell_type": "code",
   "execution_count": null,
   "metadata": {},
   "outputs": [],
   "source": [
    "def translate_and_analyze(text, myid):\n",
    "    try:\n",
    "        translated_text = translator.translate(text)\n",
    "        if translated_text is None:\n",
    "            raise ValueError(\"Translation returned None\")\n",
    "        sentiment = sia.polarity_scores(translated_text)\n",
    "        return myid, sentiment\n",
    "    except Exception as e:\n",
    "        return myid, {\"error\": str(e)}"
   ]
  },
  {
   "cell_type": "code",
   "execution_count": null,
   "metadata": {},
   "outputs": [
    {
     "name": "stderr",
     "output_type": "stream",
     "text": [
      "100%|██████████| 1000/1000 [22:43<00:00,  1.36s/it]\n"
     ]
    }
   ],
   "source": [
    "df_sample = df.sample(n=1000, random_state=42)\n",
    "\n",
    "res = {}\n",
    "for index, row in tqdm(df_sample.iterrows(), total=len(df_sample)):\n",
    "    myid, sentiment = translate_and_analyze(row['content'], row['id'])\n",
    "    res[myid] = sentiment"
   ]
  },
  {
   "cell_type": "code",
   "execution_count": null,
   "metadata": {},
   "outputs": [
    {
     "data": {
      "text/html": [
       "<div>\n",
       "<style scoped>\n",
       "    .dataframe tbody tr th:only-of-type {\n",
       "        vertical-align: middle;\n",
       "    }\n",
       "\n",
       "    .dataframe tbody tr th {\n",
       "        vertical-align: top;\n",
       "    }\n",
       "\n",
       "    .dataframe thead th {\n",
       "        text-align: right;\n",
       "    }\n",
       "</style>\n",
       "<table border=\"1\" class=\"dataframe\">\n",
       "  <thead>\n",
       "    <tr style=\"text-align: right;\">\n",
       "      <th></th>\n",
       "      <th>userName</th>\n",
       "      <th>userImage</th>\n",
       "      <th>content</th>\n",
       "      <th>score</th>\n",
       "      <th>thumbsUpCount</th>\n",
       "      <th>reviewCreatedVersion</th>\n",
       "      <th>at</th>\n",
       "      <th>replyContent</th>\n",
       "      <th>repliedAt</th>\n",
       "      <th>appVersion</th>\n",
       "      <th>sortOrder</th>\n",
       "      <th>appId</th>\n",
       "      <th>id</th>\n",
       "    </tr>\n",
       "  </thead>\n",
       "  <tbody>\n",
       "    <tr>\n",
       "      <th>3165</th>\n",
       "      <td>Luana Lamb</td>\n",
       "      <td>https://play-lh.googleusercontent.com/a/ACg8oc...</td>\n",
       "      <td>Não entregaram um MC lanche feliz e eu tive qu...</td>\n",
       "      <td>3</td>\n",
       "      <td>2</td>\n",
       "      <td>3.41.1</td>\n",
       "      <td>2024-03-10 19:39:55</td>\n",
       "      <td>None</td>\n",
       "      <td>NaT</td>\n",
       "      <td>3.41.1</td>\n",
       "      <td>newest</td>\n",
       "      <td>com.mcdo.mcdonalds</td>\n",
       "      <td>3166</td>\n",
       "    </tr>\n",
       "    <tr>\n",
       "      <th>13108</th>\n",
       "      <td>Edson Sousa Porto</td>\n",
       "      <td>https://play-lh.googleusercontent.com/a/ACg8oc...</td>\n",
       "      <td>Voces sao Honestos.amei</td>\n",
       "      <td>5</td>\n",
       "      <td>0</td>\n",
       "      <td>10.339.1</td>\n",
       "      <td>2024-07-15 19:50:35</td>\n",
       "      <td>None</td>\n",
       "      <td>NaT</td>\n",
       "      <td>10.339.1</td>\n",
       "      <td>newest</td>\n",
       "      <td>com.mercadolibre</td>\n",
       "      <td>13109</td>\n",
       "    </tr>\n",
       "    <tr>\n",
       "      <th>12288</th>\n",
       "      <td>Ezequiel Alves</td>\n",
       "      <td>https://play-lh.googleusercontent.com/a-/ALV-U...</td>\n",
       "      <td>Ultimamente a interface do mercado livre está ...</td>\n",
       "      <td>2</td>\n",
       "      <td>59</td>\n",
       "      <td>10.331.0</td>\n",
       "      <td>2024-06-20 09:27:48</td>\n",
       "      <td>None</td>\n",
       "      <td>NaT</td>\n",
       "      <td>10.331.0</td>\n",
       "      <td>most_relevant</td>\n",
       "      <td>com.mercadolibre</td>\n",
       "      <td>12289</td>\n",
       "    </tr>\n",
       "    <tr>\n",
       "      <th>2222</th>\n",
       "      <td>Ricardes Carneiro</td>\n",
       "      <td>https://play-lh.googleusercontent.com/a/ACg8oc...</td>\n",
       "      <td>Preço top. A entrega foi rápida e eficiente. A...</td>\n",
       "      <td>5</td>\n",
       "      <td>1</td>\n",
       "      <td>24.17.1</td>\n",
       "      <td>2024-06-16 00:14:48</td>\n",
       "      <td>None</td>\n",
       "      <td>NaT</td>\n",
       "      <td>24.17.1</td>\n",
       "      <td>most_relevant</td>\n",
       "      <td>com.cerveceriamodelo.modelonow</td>\n",
       "      <td>2223</td>\n",
       "    </tr>\n",
       "    <tr>\n",
       "      <th>22767</th>\n",
       "      <td>Claudir Marques</td>\n",
       "      <td>https://play-lh.googleusercontent.com/a-/ALV-U...</td>\n",
       "      <td>Otimo</td>\n",
       "      <td>5</td>\n",
       "      <td>0</td>\n",
       "      <td>5.7.0</td>\n",
       "      <td>2024-07-13 16:35:31</td>\n",
       "      <td>Oi, Claudir. Fico feliz em saber disso! Sua sa...</td>\n",
       "      <td>2024-07-15 08:45:37</td>\n",
       "      <td>5.7.0</td>\n",
       "      <td>newest</td>\n",
       "      <td>com.luizalabs.mlapp</td>\n",
       "      <td>22768</td>\n",
       "    </tr>\n",
       "  </tbody>\n",
       "</table>\n",
       "</div>"
      ],
      "text/plain": [
       "                userName                                          userImage   \n",
       "3165          Luana Lamb  https://play-lh.googleusercontent.com/a/ACg8oc...  \\\n",
       "13108  Edson Sousa Porto  https://play-lh.googleusercontent.com/a/ACg8oc...   \n",
       "12288     Ezequiel Alves  https://play-lh.googleusercontent.com/a-/ALV-U...   \n",
       "2222   Ricardes Carneiro  https://play-lh.googleusercontent.com/a/ACg8oc...   \n",
       "22767    Claudir Marques  https://play-lh.googleusercontent.com/a-/ALV-U...   \n",
       "\n",
       "                                                 content  score   \n",
       "3165   Não entregaram um MC lanche feliz e eu tive qu...      3  \\\n",
       "13108                            Voces sao Honestos.amei      5   \n",
       "12288  Ultimamente a interface do mercado livre está ...      2   \n",
       "2222   Preço top. A entrega foi rápida e eficiente. A...      5   \n",
       "22767                                              Otimo      5   \n",
       "\n",
       "       thumbsUpCount reviewCreatedVersion                  at   \n",
       "3165               2               3.41.1 2024-03-10 19:39:55  \\\n",
       "13108              0             10.339.1 2024-07-15 19:50:35   \n",
       "12288             59             10.331.0 2024-06-20 09:27:48   \n",
       "2222               1              24.17.1 2024-06-16 00:14:48   \n",
       "22767              0                5.7.0 2024-07-13 16:35:31   \n",
       "\n",
       "                                            replyContent           repliedAt   \n",
       "3165                                                None                 NaT  \\\n",
       "13108                                               None                 NaT   \n",
       "12288                                               None                 NaT   \n",
       "2222                                                None                 NaT   \n",
       "22767  Oi, Claudir. Fico feliz em saber disso! Sua sa... 2024-07-15 08:45:37   \n",
       "\n",
       "      appVersion      sortOrder                           appId     id  \n",
       "3165      3.41.1         newest              com.mcdo.mcdonalds   3166  \n",
       "13108   10.339.1         newest                com.mercadolibre  13109  \n",
       "12288   10.331.0  most_relevant                com.mercadolibre  12289  \n",
       "2222     24.17.1  most_relevant  com.cerveceriamodelo.modelonow   2223  \n",
       "22767      5.7.0         newest             com.luizalabs.mlapp  22768  "
      ]
     },
     "execution_count": 135,
     "metadata": {},
     "output_type": "execute_result"
    }
   ],
   "source": [
    "df_sample.head()"
   ]
  },
  {
   "cell_type": "code",
   "execution_count": null,
   "metadata": {},
   "outputs": [],
   "source": [
    "vaders = pd.DataFrame(res).T\n",
    "vaders.reset_index(inplace=True)\n",
    "vaders = vaders.rename(columns={'index': 'id'})\n",
    "vaders = vaders.merge(df_sample, how='left', on='id')"
   ]
  },
  {
   "cell_type": "code",
   "execution_count": null,
   "metadata": {},
   "outputs": [],
   "source": [
    "vaders = vaders.drop(['userImage', 'reviewCreatedVersion', 'replyContent', 'sortOrder', 'thumbsUpCount', 'at', 'repliedAt', 'appVersion', 'userName'], axis=1)"
   ]
  },
  {
   "cell_type": "code",
   "execution_count": null,
   "metadata": {},
   "outputs": [
    {
     "data": {
      "text/html": [
       "<div>\n",
       "<style scoped>\n",
       "    .dataframe tbody tr th:only-of-type {\n",
       "        vertical-align: middle;\n",
       "    }\n",
       "\n",
       "    .dataframe tbody tr th {\n",
       "        vertical-align: top;\n",
       "    }\n",
       "\n",
       "    .dataframe thead th {\n",
       "        text-align: right;\n",
       "    }\n",
       "</style>\n",
       "<table border=\"1\" class=\"dataframe\">\n",
       "  <thead>\n",
       "    <tr style=\"text-align: right;\">\n",
       "      <th></th>\n",
       "      <th>id</th>\n",
       "      <th>neg</th>\n",
       "      <th>neu</th>\n",
       "      <th>pos</th>\n",
       "      <th>compound</th>\n",
       "      <th>error</th>\n",
       "      <th>content</th>\n",
       "      <th>score</th>\n",
       "      <th>appId</th>\n",
       "    </tr>\n",
       "  </thead>\n",
       "  <tbody>\n",
       "    <tr>\n",
       "      <th>0</th>\n",
       "      <td>3166</td>\n",
       "      <td>0.179</td>\n",
       "      <td>0.785</td>\n",
       "      <td>0.036</td>\n",
       "      <td>-0.7056</td>\n",
       "      <td>NaN</td>\n",
       "      <td>Não entregaram um MC lanche feliz e eu tive qu...</td>\n",
       "      <td>3</td>\n",
       "      <td>com.mcdo.mcdonalds</td>\n",
       "    </tr>\n",
       "    <tr>\n",
       "      <th>1</th>\n",
       "      <td>13109</td>\n",
       "      <td>0.0</td>\n",
       "      <td>0.294</td>\n",
       "      <td>0.706</td>\n",
       "      <td>0.802</td>\n",
       "      <td>NaN</td>\n",
       "      <td>Voces sao Honestos.amei</td>\n",
       "      <td>5</td>\n",
       "      <td>com.mercadolibre</td>\n",
       "    </tr>\n",
       "    <tr>\n",
       "      <th>2</th>\n",
       "      <td>12289</td>\n",
       "      <td>0.039</td>\n",
       "      <td>0.806</td>\n",
       "      <td>0.155</td>\n",
       "      <td>0.8424</td>\n",
       "      <td>NaN</td>\n",
       "      <td>Ultimamente a interface do mercado livre está ...</td>\n",
       "      <td>2</td>\n",
       "      <td>com.mercadolibre</td>\n",
       "    </tr>\n",
       "    <tr>\n",
       "      <th>3</th>\n",
       "      <td>2223</td>\n",
       "      <td>0.0</td>\n",
       "      <td>0.593</td>\n",
       "      <td>0.407</td>\n",
       "      <td>0.8519</td>\n",
       "      <td>NaN</td>\n",
       "      <td>Preço top. A entrega foi rápida e eficiente. A...</td>\n",
       "      <td>5</td>\n",
       "      <td>com.cerveceriamodelo.modelonow</td>\n",
       "    </tr>\n",
       "    <tr>\n",
       "      <th>4</th>\n",
       "      <td>22768</td>\n",
       "      <td>0.0</td>\n",
       "      <td>0.0</td>\n",
       "      <td>1.0</td>\n",
       "      <td>0.5719</td>\n",
       "      <td>NaN</td>\n",
       "      <td>Otimo</td>\n",
       "      <td>5</td>\n",
       "      <td>com.luizalabs.mlapp</td>\n",
       "    </tr>\n",
       "  </tbody>\n",
       "</table>\n",
       "</div>"
      ],
      "text/plain": [
       "      id    neg    neu    pos compound error   \n",
       "0   3166  0.179  0.785  0.036  -0.7056   NaN  \\\n",
       "1  13109    0.0  0.294  0.706    0.802   NaN   \n",
       "2  12289  0.039  0.806  0.155   0.8424   NaN   \n",
       "3   2223    0.0  0.593  0.407   0.8519   NaN   \n",
       "4  22768    0.0    0.0    1.0   0.5719   NaN   \n",
       "\n",
       "                                             content  score   \n",
       "0  Não entregaram um MC lanche feliz e eu tive qu...      3  \\\n",
       "1                            Voces sao Honestos.amei      5   \n",
       "2  Ultimamente a interface do mercado livre está ...      2   \n",
       "3  Preço top. A entrega foi rápida e eficiente. A...      5   \n",
       "4                                              Otimo      5   \n",
       "\n",
       "                            appId  \n",
       "0              com.mcdo.mcdonalds  \n",
       "1                com.mercadolibre  \n",
       "2                com.mercadolibre  \n",
       "3  com.cerveceriamodelo.modelonow  \n",
       "4             com.luizalabs.mlapp  "
      ]
     },
     "execution_count": 161,
     "metadata": {},
     "output_type": "execute_result"
    }
   ],
   "source": [
    "vaders.head()"
   ]
  },
  {
   "cell_type": "code",
   "execution_count": null,
   "metadata": {},
   "outputs": [],
   "source": [
    "vaders = vaders.dropna(subset=['pos', 'neg', 'neu'])"
   ]
  },
  {
   "cell_type": "code",
   "execution_count": null,
   "metadata": {},
   "outputs": [
    {
     "data": {
      "text/html": [
       "<div>\n",
       "<style scoped>\n",
       "    .dataframe tbody tr th:only-of-type {\n",
       "        vertical-align: middle;\n",
       "    }\n",
       "\n",
       "    .dataframe tbody tr th {\n",
       "        vertical-align: top;\n",
       "    }\n",
       "\n",
       "    .dataframe thead th {\n",
       "        text-align: right;\n",
       "    }\n",
       "</style>\n",
       "<table border=\"1\" class=\"dataframe\">\n",
       "  <thead>\n",
       "    <tr style=\"text-align: right;\">\n",
       "      <th></th>\n",
       "      <th>id</th>\n",
       "      <th>neg</th>\n",
       "      <th>neu</th>\n",
       "      <th>pos</th>\n",
       "      <th>compound</th>\n",
       "      <th>error</th>\n",
       "      <th>content</th>\n",
       "      <th>score</th>\n",
       "      <th>appId</th>\n",
       "    </tr>\n",
       "  </thead>\n",
       "  <tbody>\n",
       "  </tbody>\n",
       "</table>\n",
       "</div>"
      ],
      "text/plain": [
       "Empty DataFrame\n",
       "Columns: [id, neg, neu, pos, compound, error, content, score, appId]\n",
       "Index: []"
      ]
     },
     "execution_count": 164,
     "metadata": {},
     "output_type": "execute_result"
    }
   ],
   "source": [
    "vaders[vaders['error'].notna()]"
   ]
  },
  {
   "cell_type": "code",
   "execution_count": null,
   "metadata": {},
   "outputs": [
    {
     "data": {
      "image/png": "[encoded data removed]",
      "text/plain": [
       "<Figure size 640x480 with 1 Axes>"
      ]
     },
     "metadata": {},
     "output_type": "display_data"
    }
   ],
   "source": [
    "ax = sns.barplot(data=vaders, x='score', y='compound')\n",
    "ax.set_title('Pontuacao compound por review de produto em estrelas')\n",
    "plt.show()"
   ]
  },
  {
   "cell_type": "markdown",
   "metadata": {},
   "source": [
    "Quando menor a pontuação compound, menor a quantidade de estrelas dada pelo consumidor."
   ]
  },
  {
   "cell_type": "code",
   "execution_count": null,
   "metadata": {},
   "outputs": [
    {
     "data": {
      "image/png": "[encoded data removed]",
      "text/plain": [
       "<Figure size 1500x500 with 3 Axes>"
      ]
     },
     "metadata": {},
     "output_type": "display_data"
    }
   ],
   "source": [
    "fig, axs = plt.subplots(1, 3, figsize=(15, 5))\n",
    "sns.barplot(data=vaders, x='score', y='pos', ax=axs[0])\n",
    "sns.barplot(data=vaders, x='score', y='neu', ax=axs[1])\n",
    "sns.barplot(data=vaders, x='score', y='neg', ax=axs[2])\n",
    "\n",
    "axs[0].set_title('Positivo')\n",
    "axs[1].set_title('Neutro')\n",
    "axs[2].set_title('Negativo')\n",
    "\n",
    "plt.tight_layout()\n",
    "plt.show()"
   ]
  },
  {
   "cell_type": "markdown",
   "metadata": {},
   "source": [
    "## Utilizando BERT"
   ]
  },
  {
   "cell_type": "code",
   "execution_count": 3,
   "metadata": {},
   "outputs": [],
   "source": [
    "from transformers import AutoTokenizer\n",
    "from transformers import AutoModelForSequenceClassification\n",
    "from scipy.special import softmax"
   ]
  },
  {
   "cell_type": "code",
   "execution_count": 4,
   "metadata": {},
   "outputs": [
    {
     "data": {
      "application/vnd.jupyter.widget-view+json": {
       "model_id": "fea98b8e1e3c42388bb40cd355e525e0",
       "version_major": 2,
       "version_minor": 0
      },
      "text/plain": [
       "pytorch_model.bin:   0%|          | 0.00/499M [00:00<?, ?B/s]"
      ]
     },
     "metadata": {},
     "output_type": "display_data"
    }
   ],
   "source": [
    "MODEL = f\"cardiffnlp/twitter-roberta-base-sentiment\"\n",
    "tokenizer = AutoTokenizer.from_pretrained(MODEL)\n",
    "model = AutoModelForSequenceClassification.from_pretrained(MODEL)"
   ]
  },
  {
   "cell_type": "code",
   "execution_count": null,
   "metadata": {},
   "outputs": [],
   "source": []
  }
 ],
 "metadata": {
  "kernelspec": {
   "display_name": "Python 3",
   "language": "python",
   "name": "python3"
  },
  "language_info": {
   "codemirror_mode": {
    "name": "ipython",
    "version": 3
   },
   "file_extension": ".py",
   "mimetype": "text/x-python",
   "name": "python",
   "nbconvert_exporter": "python",
   "pygments_lexer": "ipython3",
   "version": "3.10.12"
  }
 },
 "nbformat": 4,
 "nbformat_minor": 2
}
