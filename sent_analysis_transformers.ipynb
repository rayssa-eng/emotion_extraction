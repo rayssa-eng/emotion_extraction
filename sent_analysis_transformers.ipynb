{
 "cells": [
  {
   "cell_type": "code",
   "execution_count": 63,
   "metadata": {},
   "outputs": [],
   "source": [
    "import pandas as pd\n",
    "import numpy as np\n",
    "import matplotlib.pyplot as plt\n",
    "import seaborn as sns\n",
    "import unicodedata\n",
    "import re\n",
    "from deep_translator import GoogleTranslator\n",
    "\n",
    "from tqdm import tqdm\n",
    "\n",
    "plt.style.use('ggplot')\n",
    "\n",
    "import nltk\n",
    "from nltk.tokenize import word_tokenize\n",
    "# from vaderSentiment.vaderSentiment import SentimentIntensityAnalyzer\n",
    "from LeIA import SentimentIntensityAnalyzer\n",
    "from nltk.stem import WordNetLemmatizer\n",
    "from spellchecker import SpellChecker\n",
    "\n",
    "from google_play_scraper import Sort, reviews, app"
   ]
  },
  {
   "cell_type": "code",
   "execution_count": 64,
   "metadata": {},
   "outputs": [
    {
     "name": "stderr",
     "output_type": "stream",
     "text": [
      "[nltk_data] Downloading package vader_lexicon to\n",
      "[nltk_data]     /home/raycalm/nltk_data...\n",
      "[nltk_data]   Package vader_lexicon is already up-to-date!\n"
     ]
    },
    {
     "data": {
      "text/plain": [
       "True"
      ]
     },
     "execution_count": 64,
     "metadata": {},
     "output_type": "execute_result"
    }
   ],
   "source": [
    "nltk.download('vader_lexicon')"
   ]
  },
  {
   "cell_type": "code",
   "execution_count": 65,
   "metadata": {},
   "outputs": [],
   "source": [
    "apps_ids = ['br.com.brainweb.ifood', 'com.cerveceriamodelo.modelonow',\n",
    "\n",
    "'com.mcdo.mcdonalds', 'habibs.alphacode.com.br',\n",
    "\n",
    "'com.ubercab.eats', 'com.grability.rappi',\n",
    "\n",
    "'burgerking.com.br.appandroid', \n",
    "\n",
    "'com.vanuatu.aiqfome',\n",
    "\n",
    "'br.com.sbf.centauro',\n",
    "\n",
    "'br.com.riachuelo.app',\n",
    "\n",
    "'com.mercadolibre',\n",
    "\n",
    "'com.cerveceriamodelo.modelonow',\n",
    "\n",
    "'com.amazon.mShop.android.shopping',\n",
    "\n",
    "'br.gov.meugovbr',\n",
    "\n",
    "'com.b2w.americanas',\n",
    "\n",
    "'br.com.lojasrenner',\n",
    "\n",
    "'br.com.marisa.android',\n",
    "\n",
    "'com.zzkko',\n",
    "\n",
    "'com.luizalabs.mlapp']"
   ]
  },
  {
   "cell_type": "code",
   "execution_count": 66,
   "metadata": {},
   "outputs": [
    {
     "name": "stderr",
     "output_type": "stream",
     "text": [
      "  0%|          | 0/19 [00:00<?, ?it/s]"
     ]
    },
    {
     "name": "stderr",
     "output_type": "stream",
     "text": [
      "100%|██████████| 19/19 [01:03<00:00,  3.36s/it]\n"
     ]
    }
   ],
   "source": [
    "apps_reviews = []\n",
    "\n",
    "for ap in tqdm(apps_ids):\n",
    "    for score in list(range(1, 6)):\n",
    "        for sort_order in [Sort.MOST_RELEVANT, Sort.NEWEST]:\n",
    "            rvs, _ = reviews(\n",
    "                ap,\n",
    "                lang='pt',\n",
    "                country='br',\n",
    "                sort=sort_order,\n",
    "                count= 200 if score == 3 else 100,\n",
    "                filter_score_with=score\n",
    "            )\n",
    "            for r in rvs:\n",
    "                r['sortOrder'] = 'most_relevant' if sort_order == Sort.MOST_RELEVANT else 'newest'\n",
    "                r['appId'] = ap\n",
    "            apps_reviews.extend(rvs)"
   ]
  },
  {
   "cell_type": "code",
   "execution_count": 67,
   "metadata": {},
   "outputs": [],
   "source": [
    "df = pd.DataFrame(apps_reviews)"
   ]
  },
  {
   "cell_type": "code",
   "execution_count": 68,
   "metadata": {},
   "outputs": [],
   "source": [
    "df = df.drop(['reviewId'], axis=1)\n",
    "df['id'] = range(1, len(df) + 1)"
   ]
  },
  {
   "cell_type": "code",
   "execution_count": null,
   "metadata": {},
   "outputs": [],
   "source": []
  },
  {
   "cell_type": "code",
   "execution_count": 69,
   "metadata": {},
   "outputs": [
    {
     "data": {
      "text/html": [
       "<div>\n",
       "<style scoped>\n",
       "    .dataframe tbody tr th:only-of-type {\n",
       "        vertical-align: middle;\n",
       "    }\n",
       "\n",
       "    .dataframe tbody tr th {\n",
       "        vertical-align: top;\n",
       "    }\n",
       "\n",
       "    .dataframe thead th {\n",
       "        text-align: right;\n",
       "    }\n",
       "</style>\n",
       "<table border=\"1\" class=\"dataframe\">\n",
       "  <thead>\n",
       "    <tr style=\"text-align: right;\">\n",
       "      <th></th>\n",
       "      <th>userName</th>\n",
       "      <th>userImage</th>\n",
       "      <th>content</th>\n",
       "      <th>score</th>\n",
       "      <th>thumbsUpCount</th>\n",
       "      <th>reviewCreatedVersion</th>\n",
       "      <th>at</th>\n",
       "      <th>replyContent</th>\n",
       "      <th>repliedAt</th>\n",
       "      <th>appVersion</th>\n",
       "      <th>sortOrder</th>\n",
       "      <th>appId</th>\n",
       "      <th>id</th>\n",
       "    </tr>\n",
       "  </thead>\n",
       "  <tbody>\n",
       "    <tr>\n",
       "      <th>0</th>\n",
       "      <td>Fabiano Porto</td>\n",
       "      <td>https://play-lh.googleusercontent.com/a-/ALV-U...</td>\n",
       "      <td>Já é a segunda vez que tento resolver um probl...</td>\n",
       "      <td>1</td>\n",
       "      <td>34</td>\n",
       "      <td>10.24.0</td>\n",
       "      <td>2024-07-14 15:24:26</td>\n",
       "      <td>None</td>\n",
       "      <td>NaT</td>\n",
       "      <td>10.24.0</td>\n",
       "      <td>most_relevant</td>\n",
       "      <td>br.com.brainweb.ifood</td>\n",
       "      <td>1</td>\n",
       "    </tr>\n",
       "    <tr>\n",
       "      <th>1</th>\n",
       "      <td>Guilherme Gomes</td>\n",
       "      <td>https://play-lh.googleusercontent.com/a/ACg8oc...</td>\n",
       "      <td>Um lixo de aplicativo. Cada vez mais a experiê...</td>\n",
       "      <td>1</td>\n",
       "      <td>37</td>\n",
       "      <td>10.24.0</td>\n",
       "      <td>2024-07-08 17:11:27</td>\n",
       "      <td>None</td>\n",
       "      <td>NaT</td>\n",
       "      <td>10.24.0</td>\n",
       "      <td>most_relevant</td>\n",
       "      <td>br.com.brainweb.ifood</td>\n",
       "      <td>2</td>\n",
       "    </tr>\n",
       "    <tr>\n",
       "      <th>2</th>\n",
       "      <td>Guidi Yu</td>\n",
       "      <td>https://play-lh.googleusercontent.com/a-/ALV-U...</td>\n",
       "      <td>O atendimento pelo chat no geral era bom. Hoje...</td>\n",
       "      <td>1</td>\n",
       "      <td>34</td>\n",
       "      <td>10.24.0</td>\n",
       "      <td>2024-07-05 21:21:42</td>\n",
       "      <td>None</td>\n",
       "      <td>NaT</td>\n",
       "      <td>10.24.0</td>\n",
       "      <td>most_relevant</td>\n",
       "      <td>br.com.brainweb.ifood</td>\n",
       "      <td>3</td>\n",
       "    </tr>\n",
       "    <tr>\n",
       "      <th>3</th>\n",
       "      <td>Luis Martins</td>\n",
       "      <td>https://play-lh.googleusercontent.com/a/ACg8oc...</td>\n",
       "      <td>Estou bem decepcionado com o app. É cada vez m...</td>\n",
       "      <td>1</td>\n",
       "      <td>5</td>\n",
       "      <td>10.24.0</td>\n",
       "      <td>2024-07-13 17:02:54</td>\n",
       "      <td>None</td>\n",
       "      <td>NaT</td>\n",
       "      <td>10.24.0</td>\n",
       "      <td>most_relevant</td>\n",
       "      <td>br.com.brainweb.ifood</td>\n",
       "      <td>4</td>\n",
       "    </tr>\n",
       "    <tr>\n",
       "      <th>4</th>\n",
       "      <td>Igor Fernandez</td>\n",
       "      <td>https://play-lh.googleusercontent.com/a/ACg8oc...</td>\n",
       "      <td>Com certeza um dos piores apps que tenho, volu...</td>\n",
       "      <td>1</td>\n",
       "      <td>70</td>\n",
       "      <td>10.24.0</td>\n",
       "      <td>2024-07-04 19:58:07</td>\n",
       "      <td>None</td>\n",
       "      <td>NaT</td>\n",
       "      <td>10.24.0</td>\n",
       "      <td>most_relevant</td>\n",
       "      <td>br.com.brainweb.ifood</td>\n",
       "      <td>5</td>\n",
       "    </tr>\n",
       "  </tbody>\n",
       "</table>\n",
       "</div>"
      ],
      "text/plain": [
       "          userName                                          userImage   \n",
       "0    Fabiano Porto  https://play-lh.googleusercontent.com/a-/ALV-U...  \\\n",
       "1  Guilherme Gomes  https://play-lh.googleusercontent.com/a/ACg8oc...   \n",
       "2         Guidi Yu  https://play-lh.googleusercontent.com/a-/ALV-U...   \n",
       "3     Luis Martins  https://play-lh.googleusercontent.com/a/ACg8oc...   \n",
       "4   Igor Fernandez  https://play-lh.googleusercontent.com/a/ACg8oc...   \n",
       "\n",
       "                                             content  score  thumbsUpCount   \n",
       "0  Já é a segunda vez que tento resolver um probl...      1             34  \\\n",
       "1  Um lixo de aplicativo. Cada vez mais a experiê...      1             37   \n",
       "2  O atendimento pelo chat no geral era bom. Hoje...      1             34   \n",
       "3  Estou bem decepcionado com o app. É cada vez m...      1              5   \n",
       "4  Com certeza um dos piores apps que tenho, volu...      1             70   \n",
       "\n",
       "  reviewCreatedVersion                  at replyContent repliedAt appVersion   \n",
       "0              10.24.0 2024-07-14 15:24:26         None       NaT    10.24.0  \\\n",
       "1              10.24.0 2024-07-08 17:11:27         None       NaT    10.24.0   \n",
       "2              10.24.0 2024-07-05 21:21:42         None       NaT    10.24.0   \n",
       "3              10.24.0 2024-07-13 17:02:54         None       NaT    10.24.0   \n",
       "4              10.24.0 2024-07-04 19:58:07         None       NaT    10.24.0   \n",
       "\n",
       "       sortOrder                  appId  id  \n",
       "0  most_relevant  br.com.brainweb.ifood   1  \n",
       "1  most_relevant  br.com.brainweb.ifood   2  \n",
       "2  most_relevant  br.com.brainweb.ifood   3  \n",
       "3  most_relevant  br.com.brainweb.ifood   4  \n",
       "4  most_relevant  br.com.brainweb.ifood   5  "
      ]
     },
     "execution_count": 69,
     "metadata": {},
     "output_type": "execute_result"
    }
   ],
   "source": [
    "df.head()"
   ]
  },
  {
   "cell_type": "code",
   "execution_count": 70,
   "metadata": {},
   "outputs": [
    {
     "data": {
      "image/png": "[encoded data removed]",
      "text/plain": [
       "<Figure size 1000x500 with 1 Axes>"
      ]
     },
     "metadata": {},
     "output_type": "display_data"
    }
   ],
   "source": [
    "ax = df['score'].value_counts().sort_index().plot(kind='bar', title='Quantidade de Reviews por estrelas', figsize=(10, 5))\n",
    "ax.set_xlabel('Estrelas')\n",
    "plt.show()"
   ]
  },
  {
   "cell_type": "markdown",
   "metadata": {},
   "source": [
    "### NLTK Básico"
   ]
  },
  {
   "cell_type": "code",
   "execution_count": 71,
   "metadata": {},
   "outputs": [],
   "source": [
    "WORD_MIN_LENGTH = 2\n",
    "STOP_WORDS_PT = [stop_word.lower() for stop_word in nltk.corpus.stopwords.words('portuguese')]\n",
    "spell = SpellChecker(language='pt')\n",
    "\n",
    "def strip_accents(text):\n",
    "    nfkd = unicodedata.normalize('NFKD', text)\n",
    "    stripped_text = u\"\".join([c for c in nfkd if not unicodedata.combining(c)])\n",
    "    return re.sub('[^a-zA-Z]', ' ', stripped_text)\n",
    "\n",
    "def tokenize(text):\n",
    "    text = strip_accents(text)\n",
    "    text = re.sub(re.compile('\\n'),' ',text)\n",
    "    words = word_tokenize(text)\n",
    "    words = [word.lower() for word in words]\n",
    "    words = [word for word in words if word not in STOP_WORDS_PT and len(word) >= WORD_MIN_LENGTH]\n",
    "    return words\n",
    "\n",
    "def lemmatize(text):\n",
    "    lemmatized_text = []\n",
    "    for (word) in text:\n",
    "        lemmatizing = str(WordNetLemmatizer().lemmatize(word))\n",
    "        lemmatized_text.append(lemmatizing)\n",
    "    return lemmatized_text\n",
    "\n",
    "def preprocess_stl(array):\n",
    "    preprocessed = []\n",
    "\n",
    "    stripped_rvs = [strip_accents(rvs) for rvs in array]\n",
    "    tokenized_rvs = [tokenize(rvs) for rvs in stripped_rvs]\n",
    "    lemmatized_rvs = [lemmatize(rvs) for rvs in tokenized_rvs]\n",
    "\n",
    "    preprocessed = lemmatized_rvs\n",
    "\n",
    "    return preprocessed\n",
    "\n"
   ]
  },
  {
   "cell_type": "markdown",
   "metadata": {},
   "source": [
    "## Utilizando VADER\n",
    "Abordagem BoW - removeremos stop words e cada palavra remeterá a uma pontuação e essas pontuações serão combinadas para obter uma pontuação final"
   ]
  },
  {
   "cell_type": "code",
   "execution_count": 72,
   "metadata": {},
   "outputs": [],
   "source": [
    "sia = SentimentIntensityAnalyzer()\n",
    "# translator = GoogleTranslator(source='pt', target='en')"
   ]
  },
  {
   "cell_type": "code",
   "execution_count": 73,
   "metadata": {},
   "outputs": [],
   "source": [
    "# def translate_and_analyze(text, myid):\n",
    "#     try:\n",
    "#         translated_text = translator.translate(text)\n",
    "#         if translated_text is None:\n",
    "#             raise ValueError(\"Translation returned None\")\n",
    "#         sentiment = sia.polarity_scores(translated_text)\n",
    "#         return myid, sentiment\n",
    "#     except Exception as e:\n",
    "#         return myid, {\"error\": str(e)}"
   ]
  },
  {
   "cell_type": "code",
   "execution_count": 80,
   "metadata": {},
   "outputs": [
    {
     "name": "stderr",
     "output_type": "stream",
     "text": [
      "100%|██████████| 22800/22800 [00:16<00:00, 1401.06it/s]\n"
     ]
    }
   ],
   "source": [
    "# df_sample = df.sample(n=500, random_state=42)\n",
    "\n",
    "res = {}\n",
    "for i, row in tqdm(df.iterrows(), total=len(df)):\n",
    "    text = row['content']\n",
    "    myid = row['id']\n",
    "    res[myid] = sia.polarity_scores(text)"
   ]
  },
  {
   "cell_type": "code",
   "execution_count": 81,
   "metadata": {},
   "outputs": [
    {
     "data": {
      "text/html": [
       "<div>\n",
       "<style scoped>\n",
       "    .dataframe tbody tr th:only-of-type {\n",
       "        vertical-align: middle;\n",
       "    }\n",
       "\n",
       "    .dataframe tbody tr th {\n",
       "        vertical-align: top;\n",
       "    }\n",
       "\n",
       "    .dataframe thead th {\n",
       "        text-align: right;\n",
       "    }\n",
       "</style>\n",
       "<table border=\"1\" class=\"dataframe\">\n",
       "  <thead>\n",
       "    <tr style=\"text-align: right;\">\n",
       "      <th></th>\n",
       "      <th>userName</th>\n",
       "      <th>userImage</th>\n",
       "      <th>content</th>\n",
       "      <th>score</th>\n",
       "      <th>thumbsUpCount</th>\n",
       "      <th>reviewCreatedVersion</th>\n",
       "      <th>at</th>\n",
       "      <th>replyContent</th>\n",
       "      <th>repliedAt</th>\n",
       "      <th>appVersion</th>\n",
       "      <th>sortOrder</th>\n",
       "      <th>appId</th>\n",
       "      <th>id</th>\n",
       "    </tr>\n",
       "  </thead>\n",
       "  <tbody>\n",
       "    <tr>\n",
       "      <th>0</th>\n",
       "      <td>Fabiano Porto</td>\n",
       "      <td>https://play-lh.googleusercontent.com/a-/ALV-U...</td>\n",
       "      <td>Já é a segunda vez que tento resolver um probl...</td>\n",
       "      <td>1</td>\n",
       "      <td>34</td>\n",
       "      <td>10.24.0</td>\n",
       "      <td>2024-07-14 15:24:26</td>\n",
       "      <td>None</td>\n",
       "      <td>NaT</td>\n",
       "      <td>10.24.0</td>\n",
       "      <td>most_relevant</td>\n",
       "      <td>br.com.brainweb.ifood</td>\n",
       "      <td>1</td>\n",
       "    </tr>\n",
       "    <tr>\n",
       "      <th>1</th>\n",
       "      <td>Guilherme Gomes</td>\n",
       "      <td>https://play-lh.googleusercontent.com/a/ACg8oc...</td>\n",
       "      <td>Um lixo de aplicativo. Cada vez mais a experiê...</td>\n",
       "      <td>1</td>\n",
       "      <td>37</td>\n",
       "      <td>10.24.0</td>\n",
       "      <td>2024-07-08 17:11:27</td>\n",
       "      <td>None</td>\n",
       "      <td>NaT</td>\n",
       "      <td>10.24.0</td>\n",
       "      <td>most_relevant</td>\n",
       "      <td>br.com.brainweb.ifood</td>\n",
       "      <td>2</td>\n",
       "    </tr>\n",
       "    <tr>\n",
       "      <th>2</th>\n",
       "      <td>Guidi Yu</td>\n",
       "      <td>https://play-lh.googleusercontent.com/a-/ALV-U...</td>\n",
       "      <td>O atendimento pelo chat no geral era bom. Hoje...</td>\n",
       "      <td>1</td>\n",
       "      <td>34</td>\n",
       "      <td>10.24.0</td>\n",
       "      <td>2024-07-05 21:21:42</td>\n",
       "      <td>None</td>\n",
       "      <td>NaT</td>\n",
       "      <td>10.24.0</td>\n",
       "      <td>most_relevant</td>\n",
       "      <td>br.com.brainweb.ifood</td>\n",
       "      <td>3</td>\n",
       "    </tr>\n",
       "    <tr>\n",
       "      <th>3</th>\n",
       "      <td>Luis Martins</td>\n",
       "      <td>https://play-lh.googleusercontent.com/a/ACg8oc...</td>\n",
       "      <td>Estou bem decepcionado com o app. É cada vez m...</td>\n",
       "      <td>1</td>\n",
       "      <td>5</td>\n",
       "      <td>10.24.0</td>\n",
       "      <td>2024-07-13 17:02:54</td>\n",
       "      <td>None</td>\n",
       "      <td>NaT</td>\n",
       "      <td>10.24.0</td>\n",
       "      <td>most_relevant</td>\n",
       "      <td>br.com.brainweb.ifood</td>\n",
       "      <td>4</td>\n",
       "    </tr>\n",
       "    <tr>\n",
       "      <th>4</th>\n",
       "      <td>Igor Fernandez</td>\n",
       "      <td>https://play-lh.googleusercontent.com/a/ACg8oc...</td>\n",
       "      <td>Com certeza um dos piores apps que tenho, volu...</td>\n",
       "      <td>1</td>\n",
       "      <td>70</td>\n",
       "      <td>10.24.0</td>\n",
       "      <td>2024-07-04 19:58:07</td>\n",
       "      <td>None</td>\n",
       "      <td>NaT</td>\n",
       "      <td>10.24.0</td>\n",
       "      <td>most_relevant</td>\n",
       "      <td>br.com.brainweb.ifood</td>\n",
       "      <td>5</td>\n",
       "    </tr>\n",
       "  </tbody>\n",
       "</table>\n",
       "</div>"
      ],
      "text/plain": [
       "          userName                                          userImage   \n",
       "0    Fabiano Porto  https://play-lh.googleusercontent.com/a-/ALV-U...  \\\n",
       "1  Guilherme Gomes  https://play-lh.googleusercontent.com/a/ACg8oc...   \n",
       "2         Guidi Yu  https://play-lh.googleusercontent.com/a-/ALV-U...   \n",
       "3     Luis Martins  https://play-lh.googleusercontent.com/a/ACg8oc...   \n",
       "4   Igor Fernandez  https://play-lh.googleusercontent.com/a/ACg8oc...   \n",
       "\n",
       "                                             content  score  thumbsUpCount   \n",
       "0  Já é a segunda vez que tento resolver um probl...      1             34  \\\n",
       "1  Um lixo de aplicativo. Cada vez mais a experiê...      1             37   \n",
       "2  O atendimento pelo chat no geral era bom. Hoje...      1             34   \n",
       "3  Estou bem decepcionado com o app. É cada vez m...      1              5   \n",
       "4  Com certeza um dos piores apps que tenho, volu...      1             70   \n",
       "\n",
       "  reviewCreatedVersion                  at replyContent repliedAt appVersion   \n",
       "0              10.24.0 2024-07-14 15:24:26         None       NaT    10.24.0  \\\n",
       "1              10.24.0 2024-07-08 17:11:27         None       NaT    10.24.0   \n",
       "2              10.24.0 2024-07-05 21:21:42         None       NaT    10.24.0   \n",
       "3              10.24.0 2024-07-13 17:02:54         None       NaT    10.24.0   \n",
       "4              10.24.0 2024-07-04 19:58:07         None       NaT    10.24.0   \n",
       "\n",
       "       sortOrder                  appId  id  \n",
       "0  most_relevant  br.com.brainweb.ifood   1  \n",
       "1  most_relevant  br.com.brainweb.ifood   2  \n",
       "2  most_relevant  br.com.brainweb.ifood   3  \n",
       "3  most_relevant  br.com.brainweb.ifood   4  \n",
       "4  most_relevant  br.com.brainweb.ifood   5  "
      ]
     },
     "execution_count": 81,
     "metadata": {},
     "output_type": "execute_result"
    }
   ],
   "source": [
    "df.head()"
   ]
  },
  {
   "cell_type": "code",
   "execution_count": 82,
   "metadata": {},
   "outputs": [],
   "source": [
    "vaders = pd.DataFrame(res).T\n",
    "vaders.reset_index(inplace=True)\n",
    "vaders = vaders.rename(columns={'index': 'id'})\n",
    "vaders = vaders.merge(df, how='left', on='id')"
   ]
  },
  {
   "cell_type": "code",
   "execution_count": 83,
   "metadata": {},
   "outputs": [],
   "source": [
    "vaders = vaders.drop(['userImage', 'reviewCreatedVersion', 'replyContent', 'sortOrder', 'thumbsUpCount', 'at', 'repliedAt', 'appVersion', 'userName'], axis=1)"
   ]
  },
  {
   "cell_type": "code",
   "execution_count": 84,
   "metadata": {},
   "outputs": [
    {
     "data": {
      "text/html": [
       "<div>\n",
       "<style scoped>\n",
       "    .dataframe tbody tr th:only-of-type {\n",
       "        vertical-align: middle;\n",
       "    }\n",
       "\n",
       "    .dataframe tbody tr th {\n",
       "        vertical-align: top;\n",
       "    }\n",
       "\n",
       "    .dataframe thead th {\n",
       "        text-align: right;\n",
       "    }\n",
       "</style>\n",
       "<table border=\"1\" class=\"dataframe\">\n",
       "  <thead>\n",
       "    <tr style=\"text-align: right;\">\n",
       "      <th></th>\n",
       "      <th>id</th>\n",
       "      <th>neg</th>\n",
       "      <th>neu</th>\n",
       "      <th>pos</th>\n",
       "      <th>compound</th>\n",
       "      <th>content</th>\n",
       "      <th>score</th>\n",
       "      <th>appId</th>\n",
       "    </tr>\n",
       "  </thead>\n",
       "  <tbody>\n",
       "    <tr>\n",
       "      <th>0</th>\n",
       "      <td>1</td>\n",
       "      <td>0.211</td>\n",
       "      <td>0.696</td>\n",
       "      <td>0.093</td>\n",
       "      <td>-0.7160</td>\n",
       "      <td>Já é a segunda vez que tento resolver um probl...</td>\n",
       "      <td>1</td>\n",
       "      <td>br.com.brainweb.ifood</td>\n",
       "    </tr>\n",
       "    <tr>\n",
       "      <th>1</th>\n",
       "      <td>2</td>\n",
       "      <td>0.121</td>\n",
       "      <td>0.783</td>\n",
       "      <td>0.096</td>\n",
       "      <td>-0.2023</td>\n",
       "      <td>Um lixo de aplicativo. Cada vez mais a experiê...</td>\n",
       "      <td>1</td>\n",
       "      <td>br.com.brainweb.ifood</td>\n",
       "    </tr>\n",
       "    <tr>\n",
       "      <th>2</th>\n",
       "      <td>3</td>\n",
       "      <td>0.109</td>\n",
       "      <td>0.774</td>\n",
       "      <td>0.117</td>\n",
       "      <td>0.1280</td>\n",
       "      <td>O atendimento pelo chat no geral era bom. Hoje...</td>\n",
       "      <td>1</td>\n",
       "      <td>br.com.brainweb.ifood</td>\n",
       "    </tr>\n",
       "    <tr>\n",
       "      <th>3</th>\n",
       "      <td>4</td>\n",
       "      <td>0.193</td>\n",
       "      <td>0.783</td>\n",
       "      <td>0.024</td>\n",
       "      <td>-0.8765</td>\n",
       "      <td>Estou bem decepcionado com o app. É cada vez m...</td>\n",
       "      <td>1</td>\n",
       "      <td>br.com.brainweb.ifood</td>\n",
       "    </tr>\n",
       "    <tr>\n",
       "      <th>4</th>\n",
       "      <td>5</td>\n",
       "      <td>0.078</td>\n",
       "      <td>0.864</td>\n",
       "      <td>0.058</td>\n",
       "      <td>-0.2732</td>\n",
       "      <td>Com certeza um dos piores apps que tenho, volu...</td>\n",
       "      <td>1</td>\n",
       "      <td>br.com.brainweb.ifood</td>\n",
       "    </tr>\n",
       "  </tbody>\n",
       "</table>\n",
       "</div>"
      ],
      "text/plain": [
       "   id    neg    neu    pos  compound   \n",
       "0   1  0.211  0.696  0.093   -0.7160  \\\n",
       "1   2  0.121  0.783  0.096   -0.2023   \n",
       "2   3  0.109  0.774  0.117    0.1280   \n",
       "3   4  0.193  0.783  0.024   -0.8765   \n",
       "4   5  0.078  0.864  0.058   -0.2732   \n",
       "\n",
       "                                             content  score   \n",
       "0  Já é a segunda vez que tento resolver um probl...      1  \\\n",
       "1  Um lixo de aplicativo. Cada vez mais a experiê...      1   \n",
       "2  O atendimento pelo chat no geral era bom. Hoje...      1   \n",
       "3  Estou bem decepcionado com o app. É cada vez m...      1   \n",
       "4  Com certeza um dos piores apps que tenho, volu...      1   \n",
       "\n",
       "                   appId  \n",
       "0  br.com.brainweb.ifood  \n",
       "1  br.com.brainweb.ifood  \n",
       "2  br.com.brainweb.ifood  \n",
       "3  br.com.brainweb.ifood  \n",
       "4  br.com.brainweb.ifood  "
      ]
     },
     "execution_count": 84,
     "metadata": {},
     "output_type": "execute_result"
    }
   ],
   "source": [
    "vaders.head()"
   ]
  },
  {
   "cell_type": "code",
   "execution_count": 86,
   "metadata": {},
   "outputs": [],
   "source": [
    "vaders = vaders.dropna(subset=['pos', 'neg', 'neu'])"
   ]
  },
  {
   "cell_type": "code",
   "execution_count": 88,
   "metadata": {},
   "outputs": [
    {
     "data": {
      "image/png": "[encoded data removed]",
      "text/plain": [
       "<Figure size 640x480 with 1 Axes>"
      ]
     },
     "metadata": {},
     "output_type": "display_data"
    }
   ],
   "source": [
    "ax = sns.barplot(data=vaders, x='score', y='compound')\n",
    "ax.set_title('Pontuacao compound por review de produto em estrelas')\n",
    "plt.show()"
   ]
  },
  {
   "cell_type": "markdown",
   "metadata": {},
   "source": [
    "Quando menor a pontuação compound, menor a quantidade de estrelas dada pelo consumidor."
   ]
  },
  {
   "cell_type": "code",
   "execution_count": 89,
   "metadata": {},
   "outputs": [
    {
     "data": {
      "image/png": "[encoded data removed]",
      "text/plain": [
       "<Figure size 1500x500 with 3 Axes>"
      ]
     },
     "metadata": {},
     "output_type": "display_data"
    }
   ],
   "source": [
    "fig, axs = plt.subplots(1, 3, figsize=(15, 5))\n",
    "sns.barplot(data=vaders, x='score', y='pos', ax=axs[0])\n",
    "sns.barplot(data=vaders, x='score', y='neu', ax=axs[1])\n",
    "sns.barplot(data=vaders, x='score', y='neg', ax=axs[2])\n",
    "\n",
    "axs[0].set_title('Positivo')\n",
    "axs[1].set_title('Neutro')\n",
    "axs[2].set_title('Negativo')\n",
    "\n",
    "plt.tight_layout()\n",
    "plt.show()"
   ]
  },
  {
   "cell_type": "markdown",
   "metadata": {},
   "source": [
    "## Utilizando RoBERTa"
   ]
  },
  {
   "cell_type": "code",
   "execution_count": 90,
   "metadata": {},
   "outputs": [],
   "source": [
    "from transformers import AutoTokenizer\n",
    "from transformers import AutoModelForSequenceClassification\n",
    "from scipy.special import softmax"
   ]
  },
  {
   "cell_type": "code",
   "execution_count": 91,
   "metadata": {},
   "outputs": [],
   "source": [
    "MODEL = f\"cardiffnlp/twitter-roberta-base-sentiment\"\n",
    "tokenizer = AutoTokenizer.from_pretrained(MODEL)\n",
    "model = AutoModelForSequenceClassification.from_pretrained(MODEL)"
   ]
  },
  {
   "cell_type": "code",
   "execution_count": 94,
   "metadata": {},
   "outputs": [
    {
     "name": "stdout",
     "output_type": "stream",
     "text": [
      "Já é a segunda vez que tento resolver um problema com uma loja que não responde e a ajuda do Ifood não tem serventia nenhuma. O que me faz acreditar que a plataforma é conivente com a falta de compromisso e descaso com o cliente ao permitir lojas que demoram quase duas horas para entregar um pedido e não entregam. Experiência péssima é pouco para definir o uso do aplicativo.\n",
      "{'neg': 0.211, 'neu': 0.696, 'pos': 0.093, 'compound': -0.716}\n"
     ]
    }
   ],
   "source": [
    "# Exemplo executado para VADER\n",
    "\n",
    "example = df['content'][0]\n",
    "vader_result = sia.polarity_scores(example)\n",
    "\n",
    "print(example)\n",
    "print(vader_result)"
   ]
  },
  {
   "cell_type": "code",
   "execution_count": 93,
   "metadata": {},
   "outputs": [
    {
     "data": {
      "text/plain": [
       "{'input_ids': tensor([[    0,   863,  1526,  7935,    10,   842,   571, 21729,  5030,   329,\n",
       "          1192, 10178,   139,  5032, 35934,  7252,   936,   102,  3137,  1717,\n",
       "          1916,  4600,  1910,  1192,   295,  4214,  2519,   242,   364,    10,\n",
       "            10, 12864,   102,   109,   318,  5715,   295,  4214, 11030, 18527,\n",
       "          1342,   493,   295, 15477,  5037,     4,   384,  1192,   162,   856,\n",
       "          1222,  4285, 35979,   271,  1192,    10,  2968,  2186,  3899,   102,\n",
       "          7935,  2764,  1879,  8530,  3137,    10,   856,  3967,   102,   263,\n",
       "         40734,   354,  2527,   364, 23174,   281,   139,  3137,  1021,  3653,\n",
       "           242,    10,   139,  6687,   853,  4600, 19798,  1192,  4410,   368,\n",
       "           424,  2677,  3175,  4279,   281, 17211,   281,  3840,  3838,  4950,\n",
       "           271,  7252, 16954,  6005,   364,   295,  4214,  3838,  4950,   424,\n",
       "             4, 26403,   118,  5563, 11326,   493,   181,  1140,  7485,  4261,\n",
       "          7935,   181,  1438,   876,  3840, 32888,   853,  1021,   201,   139,\n",
       "           109,    10,  2911,   636,   415,  9697,     4,     2]]), 'attention_mask': tensor([[1, 1, 1, 1, 1, 1, 1, 1, 1, 1, 1, 1, 1, 1, 1, 1, 1, 1, 1, 1, 1, 1, 1, 1,\n",
       "         1, 1, 1, 1, 1, 1, 1, 1, 1, 1, 1, 1, 1, 1, 1, 1, 1, 1, 1, 1, 1, 1, 1, 1,\n",
       "         1, 1, 1, 1, 1, 1, 1, 1, 1, 1, 1, 1, 1, 1, 1, 1, 1, 1, 1, 1, 1, 1, 1, 1,\n",
       "         1, 1, 1, 1, 1, 1, 1, 1, 1, 1, 1, 1, 1, 1, 1, 1, 1, 1, 1, 1, 1, 1, 1, 1,\n",
       "         1, 1, 1, 1, 1, 1, 1, 1, 1, 1, 1, 1, 1, 1, 1, 1, 1, 1, 1, 1, 1, 1, 1, 1,\n",
       "         1, 1, 1, 1, 1, 1, 1, 1, 1, 1, 1, 1, 1, 1, 1, 1, 1, 1]])}"
      ]
     },
     "execution_count": 93,
     "metadata": {},
     "output_type": "execute_result"
    }
   ],
   "source": [
    "# Executando para o modelo RoBERTa\n",
    "encoded_text = tokenizer(example, return_tensors='pt')\n"
   ]
  }
 ],
 "metadata": {
  "kernelspec": {
   "display_name": "Python 3",
   "language": "python",
   "name": "python3"
  },
  "language_info": {
   "codemirror_mode": {
    "name": "ipython",
    "version": 3
   },
   "file_extension": ".py",
   "mimetype": "text/x-python",
   "name": "python",
   "nbconvert_exporter": "python",
   "pygments_lexer": "ipython3",
   "version": "3.10.12"
  }
 },
 "nbformat": 4,
 "nbformat_minor": 2
}
